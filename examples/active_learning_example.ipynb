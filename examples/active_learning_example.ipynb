{
 "cells": [
  {
   "cell_type": "markdown",
   "metadata": {},
   "source": [
    "# Imports"
   ]
  },
  {
   "cell_type": "code",
   "execution_count": 1,
   "metadata": {},
   "outputs": [],
   "source": [
    "import pandas as pd\n",
    "import numpy as np\n",
    "from IPython.display import display"
   ]
  },
  {
   "cell_type": "markdown",
   "metadata": {},
   "source": [
    "# Dataset Creation"
   ]
  },
  {
   "cell_type": "code",
   "execution_count": 2,
   "metadata": {},
   "outputs": [
    {
     "data": {
      "text/html": [
       "<div>\n",
       "<style scoped>\n",
       "    .dataframe tbody tr th:only-of-type {\n",
       "        vertical-align: middle;\n",
       "    }\n",
       "\n",
       "    .dataframe tbody tr th {\n",
       "        vertical-align: top;\n",
       "    }\n",
       "\n",
       "    .dataframe thead th {\n",
       "        text-align: right;\n",
       "    }\n",
       "</style>\n",
       "<table border=\"1\" class=\"dataframe\">\n",
       "  <thead>\n",
       "    <tr style=\"text-align: right;\">\n",
       "      <th></th>\n",
       "      <th>ID</th>\n",
       "      <th>X</th>\n",
       "      <th>Y</th>\n",
       "      <th>LABEL</th>\n",
       "    </tr>\n",
       "  </thead>\n",
       "  <tbody>\n",
       "    <tr>\n",
       "      <th>0</th>\n",
       "      <td>ID0</td>\n",
       "      <td>261</td>\n",
       "      <td>290</td>\n",
       "      <td>HIGH</td>\n",
       "    </tr>\n",
       "    <tr>\n",
       "      <th>1</th>\n",
       "      <td>ID1</td>\n",
       "      <td>857</td>\n",
       "      <td>624</td>\n",
       "      <td>LOW</td>\n",
       "    </tr>\n",
       "    <tr>\n",
       "      <th>2</th>\n",
       "      <td>ID2</td>\n",
       "      <td>685</td>\n",
       "      <td>131</td>\n",
       "      <td>LOW</td>\n",
       "    </tr>\n",
       "    <tr>\n",
       "      <th>3</th>\n",
       "      <td>ID3</td>\n",
       "      <td>818</td>\n",
       "      <td>158</td>\n",
       "      <td>LOW</td>\n",
       "    </tr>\n",
       "    <tr>\n",
       "      <th>4</th>\n",
       "      <td>ID4</td>\n",
       "      <td>441</td>\n",
       "      <td>213</td>\n",
       "      <td>LOW</td>\n",
       "    </tr>\n",
       "    <tr>\n",
       "      <th>...</th>\n",
       "      <td>...</td>\n",
       "      <td>...</td>\n",
       "      <td>...</td>\n",
       "      <td>...</td>\n",
       "    </tr>\n",
       "    <tr>\n",
       "      <th>9995</th>\n",
       "      <td>ID9995</td>\n",
       "      <td>287</td>\n",
       "      <td>168</td>\n",
       "      <td>LOW</td>\n",
       "    </tr>\n",
       "    <tr>\n",
       "      <th>9996</th>\n",
       "      <td>ID9996</td>\n",
       "      <td>738</td>\n",
       "      <td>342</td>\n",
       "      <td>LOW</td>\n",
       "    </tr>\n",
       "    <tr>\n",
       "      <th>9997</th>\n",
       "      <td>ID9997</td>\n",
       "      <td>969</td>\n",
       "      <td>568</td>\n",
       "      <td>LOW</td>\n",
       "    </tr>\n",
       "    <tr>\n",
       "      <th>9998</th>\n",
       "      <td>ID9998</td>\n",
       "      <td>425</td>\n",
       "      <td>824</td>\n",
       "      <td>HIGH</td>\n",
       "    </tr>\n",
       "    <tr>\n",
       "      <th>9999</th>\n",
       "      <td>ID9999</td>\n",
       "      <td>241</td>\n",
       "      <td>727</td>\n",
       "      <td>HIGH</td>\n",
       "    </tr>\n",
       "  </tbody>\n",
       "</table>\n",
       "<p>10000 rows × 4 columns</p>\n",
       "</div>"
      ],
      "text/plain": [
       "          ID    X    Y LABEL\n",
       "0        ID0  261  290  HIGH\n",
       "1        ID1  857  624   LOW\n",
       "2        ID2  685  131   LOW\n",
       "3        ID3  818  158   LOW\n",
       "4        ID4  441  213   LOW\n",
       "...      ...  ...  ...   ...\n",
       "9995  ID9995  287  168   LOW\n",
       "9996  ID9996  738  342   LOW\n",
       "9997  ID9997  969  568   LOW\n",
       "9998  ID9998  425  824  HIGH\n",
       "9999  ID9999  241  727  HIGH\n",
       "\n",
       "[10000 rows x 4 columns]"
      ]
     },
     "execution_count": 2,
     "metadata": {},
     "output_type": "execute_result"
    }
   ],
   "source": [
    "features_cols = ['X','Y']\n",
    "label_col = 'LABEL'\n",
    "index_col = 'ID'\n",
    "size = 10000\n",
    "min_value = 0\n",
    "max_value = 1000\n",
    "\n",
    "points = [['ID{}'.format(i), np.random.randint(min_value,max_value), \n",
    "           np.random.randint(min_value,max_value)] for i in range(size)]\n",
    "\n",
    "labeled_df = pd.DataFrame(points, columns=[index_col, 'X','Y'])\n",
    "labeled_df[label_col] = labeled_df.apply(lambda row: 'HIGH' if row['X'] < row['Y'] else 'LOW', axis=1)\n",
    "\n",
    "labeled_df"
   ]
  },
  {
   "cell_type": "markdown",
   "metadata": {},
   "source": [
    "# Modeling & Training"
   ]
  },
  {
   "cell_type": "code",
   "execution_count": 3,
   "metadata": {},
   "outputs": [],
   "source": [
    "from sklearn.linear_model import LogisticRegression\n",
    "from sklearn.ensemble import RandomForestClassifier\n",
    "from automl_infrastructure.classifiers.adapters import SklearnClassifierAdapter\n",
    "\n",
    "lr_model = SklearnClassifierAdapter(name='lr', sklearn_model=LogisticRegression())\n",
    "rf_model = SklearnClassifierAdapter(name='rf', sklearn_model=RandomForestClassifier())\n",
    "\n",
    "lr_model.fit(labeled_df[features_cols], labeled_df[label_col])"
   ]
  },
  {
   "cell_type": "markdown",
   "metadata": {},
   "source": [
    "# Active Learning Declaration"
   ]
  },
  {
   "cell_type": "code",
   "execution_count": 92,
   "metadata": {},
   "outputs": [],
   "source": [
    "from automl_infrastructure.experiment import Experiment\n",
    "import matplotlib.pyplot as plt\n",
    "import copy\n",
    "\n",
    "def least_confidence_strategy(proba):\n",
    "    return 1 - np.amax(proba)\n",
    "\n",
    "def random_strategy(proba):\n",
    "    return np.random.uniform()\n",
    "\n",
    "\n",
    "class ActiveLearningRecommender(object):\n",
    "    \n",
    "    def __init__(self, strategy):\n",
    "        self._strategy = strategy\n",
    "    \n",
    "    def query(self, model, unlabeled_df, index_col, output_score_col='SCORE'):\n",
    "        # predict proba for each instance\n",
    "        unlabeled_predictions_proba = model.predict_proba(unlabeled_df.drop(index_col, axis=1))\n",
    "        \n",
    "        # transform proba to score based on strategy\n",
    "        unlabeled_scores = [self._strategy(proba) for proba in unlabeled_predictions_proba]\n",
    "        \n",
    "        instances_scores = unlabeled_df[[index_col]].copy()\n",
    "        instances_scores[output_score_col] = unlabeled_scores\n",
    "        return instances_scores.sort_values(by=[output_score_col], ascending=False)\n",
    "    \n",
    "\n",
    "class ActiveLearningEvaluator(object):\n",
    "    \n",
    "    def __init__(self, model, gt, index_col, label_col, scoring='accuracy'):\n",
    "        self._model = copy.deepcopy(model)\n",
    "        self._gt = gt\n",
    "        self._index_col = index_col\n",
    "        self._label_col = label_col\n",
    "        self._scoring = scoring\n",
    "        self._features_columns = [c for c in gt.columns if c not in (label_col, index_col)]\n",
    "        \n",
    "        # evaluation data\n",
    "        self._recommenders_scores = None\n",
    "        self._recommenders_lst = None\n",
    "    \n",
    "    \n",
    "    def _recommender_test_instances_split(self, train, test, recommender, top_instances):\n",
    "        # verify required top instances is not higher then the test set\n",
    "        if top_instances > test.shape[0]:\n",
    "            raise Exception('Number of selected instances must not be higher than test set size.')\n",
    "            \n",
    "        # train model and recommend instances from test\n",
    "        self._model.fit(train[self._features_columns], train[label_col])\n",
    "        instances_ids_df = recommender.query(self._model, test.drop(self._label_col, axis=1), self._index_col)\\\n",
    "                                    .head(top_instances)[[self._index_col]]\n",
    "        instances_df = pd.merge(instances_ids_df, test, on=[self._index_col])\n",
    "        \n",
    "        # remove instances from test\n",
    "        effective_test = test[test[self._index_col].isin(instances_df[self._index_col]) == False]\n",
    "        \n",
    "        return instances_df, effective_test\n",
    "    \n",
    "    def _score_instances_recommender(self, train, test, n_folds, n_repeats, recommender, top_instances):\n",
    "        instances_df, effective_test = self._recommender_test_instances_split(train, test, recommender, top_instances)\n",
    "        \n",
    "        # run k-fold scoring on test set\n",
    "        e = Experiment('e', effective_test[self._features_columns], effective_test[self._label_col], \n",
    "                models=[self._model], objective=self._scoring, n_folds=n_folds, n_repetitions=n_repeats, \n",
    "                additional_training_data_x=instances_df[self._features_columns],\n",
    "                additional_training_data_y=instances_df[self._label_col])\n",
    "        e.run()\n",
    "        \n",
    "        return e.objective_score(model_name=self._model.name, group='test')\n",
    "    \n",
    "    def evaluate(self, gt_ratios, recommenders, iters=10, test_ratio=0.5, n_folds=4, kfold_n_repeats=3, top_instances=10):\n",
    "        gt_ratios = sorted(gt_ratios)\n",
    "        recommenders_scores = {}\n",
    "        for gt_ratio in gt_ratios:\n",
    "            recommenders_scores[gt_ratio] = {}\n",
    "            # initialize recommenders scores list\n",
    "            for recommender_name in recommenders:\n",
    "                recommenders_scores[gt_ratio][recommender_name] = []\n",
    "                \n",
    "            for i in range(iters):\n",
    "                # split sample gt and split to train and test\n",
    "                sampled_gt = self._gt.sample(frac=gt_ratio)\n",
    "                train, test = train_test_split(sampled_gt, train_size=1-test_ratio, test_size=test_ratio,\n",
    "                                               stratify=sampled_gt[self._label_col])\n",
    "                # calculate score for each recommender\n",
    "                for recommender_name, recommender in recommenders.items():\n",
    "                    recommender_score = self._score_instances_recommender(train, test, n_folds=n_folds,\n",
    "                                    n_repeats=kfold_n_repeats, recommender=recommender, top_instances=top_instances)\n",
    "                    recommenders_scores[gt_ratio][recommender_name].append(recommender_score)\n",
    "        self._recommenders_scores = recommenders_scores\n",
    "        self._recommenders_lst = [r for r in recommenders]\n",
    "    \n",
    "    def plot(self, min_score=0.0, max_score=1.05, figsize=(5,5)):\n",
    "        if self._recommenders_scores is None:\n",
    "            raise Exception('You was evaluate before plotting')\n",
    "        \n",
    "        # create xs ticks\n",
    "        xs = [int(gt_ratio*self._gt.shape[0]) for gt_ratio in self._recommenders_scores]\n",
    "        plt.clf()\n",
    "        plt.figure(figsize=figsize)\n",
    "        for recommender_name in self._recommenders_lst:\n",
    "            ys = []\n",
    "            for gt_ratio in self._recommenders_scores:\n",
    "                ys.append(np.mean(self._recommenders_scores[gt_ratio][recommender_name]))\n",
    "            plt.plot(xs, ys, label=recommender_name)\n",
    "            \n",
    "        plt.xlabel('GT Size')\n",
    "        plt.ylabel('Score')\n",
    "        plt.xlim([0, self._gt.shape[0]])\n",
    "        plt.ylim([min_score, max_score])\n",
    "        plt.title('Recommenders Performence')\n",
    "        plt.legend(loc='upper right')\n",
    "        "
   ]
  },
  {
   "cell_type": "markdown",
   "metadata": {},
   "source": [
    "# Define Recommenders & Evaluate"
   ]
  },
  {
   "cell_type": "code",
   "execution_count": 97,
   "metadata": {
    "scrolled": false
   },
   "outputs": [],
   "source": [
    "# define recommenders\n",
    "lc_recommender = ActiveLearningRecommender(least_confidence_strategy)\n",
    "random_recommender = ActiveLearningRecommender(random_strategy)\n",
    "\n",
    "# define evaluator\n",
    "evaluator = ActiveLearningEvaluator(lr_model, labeled_df, index_col, label_col, scoring='accuracy')\n",
    "evaluator.evaluate(gt_ratios=[0.1, 0.3, 0.5, 0.7, 0.9], recommenders={'LC':lc_recommender, 'Random':random_recommender})"
   ]
  },
  {
   "cell_type": "code",
   "execution_count": 102,
   "metadata": {
    "scrolled": false
   },
   "outputs": [
    {
     "data": {
      "text/plain": [
       "<Figure size 432x288 with 0 Axes>"
      ]
     },
     "metadata": {},
     "output_type": "display_data"
    },
    {
     "data": {
      "image/png": "[encoded data removed]",
      "text/plain": [
       "<Figure size 360x360 with 1 Axes>"
      ]
     },
     "metadata": {
      "needs_background": "light"
     },
     "output_type": "display_data"
    }
   ],
   "source": [
    "evaluator.plot(min_score=0.995, max_score=1.005)"
   ]
  },
  {
   "cell_type": "code",
   "execution_count": 73,
   "metadata": {},
   "outputs": [
    {
     "data": {
      "text/plain": [
       "[6, 9, 87]"
      ]
     },
     "execution_count": 73,
     "metadata": {},
     "output_type": "execute_result"
    }
   ],
   "source": [
    "a"
   ]
  },
  {
   "cell_type": "code",
   "execution_count": null,
   "metadata": {},
   "outputs": [],
   "source": []
  }
 ],
 "metadata": {
  "kernelspec": {
   "display_name": "Python 3",
   "language": "python",
   "name": "python3"
  },
  "language_info": {
   "codemirror_mode": {
    "name": "ipython",
    "version": 3
   },
   "file_extension": ".py",
   "mimetype": "text/x-python",
   "name": "python",
   "nbconvert_exporter": "python",
   "pygments_lexer": "ipython3",
   "version": "3.7.7"
  }
 },
 "nbformat": 4,
 "nbformat_minor": 4
}
