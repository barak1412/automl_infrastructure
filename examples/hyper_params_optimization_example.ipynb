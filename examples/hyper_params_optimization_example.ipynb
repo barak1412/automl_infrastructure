{
 "cells": [
  {
   "cell_type": "markdown",
   "metadata": {},
   "source": [
    "# Imports"
   ]
  },
  {
   "cell_type": "code",
   "execution_count": 1,
   "metadata": {},
   "outputs": [],
   "source": [
    "import pandas as pd\n",
    "import numpy as np\n",
    "from IPython.display import display"
   ]
  },
  {
   "cell_type": "markdown",
   "metadata": {},
   "source": [
    "# Dataset Creation"
   ]
  },
  {
   "cell_type": "code",
   "execution_count": 2,
   "metadata": {},
   "outputs": [
    {
     "data": {
      "text/html": [
       "<div>\n",
       "<style scoped>\n",
       "    .dataframe tbody tr th:only-of-type {\n",
       "        vertical-align: middle;\n",
       "    }\n",
       "\n",
       "    .dataframe tbody tr th {\n",
       "        vertical-align: top;\n",
       "    }\n",
       "\n",
       "    .dataframe thead th {\n",
       "        text-align: right;\n",
       "    }\n",
       "</style>\n",
       "<table border=\"1\" class=\"dataframe\">\n",
       "  <thead>\n",
       "    <tr style=\"text-align: right;\">\n",
       "      <th></th>\n",
       "      <th>X</th>\n",
       "      <th>Y</th>\n",
       "      <th>LABEL</th>\n",
       "    </tr>\n",
       "  </thead>\n",
       "  <tbody>\n",
       "    <tr>\n",
       "      <th>0</th>\n",
       "      <td>5</td>\n",
       "      <td>0</td>\n",
       "      <td>Low</td>\n",
       "    </tr>\n",
       "    <tr>\n",
       "      <th>1</th>\n",
       "      <td>9</td>\n",
       "      <td>3</td>\n",
       "      <td>Low</td>\n",
       "    </tr>\n",
       "    <tr>\n",
       "      <th>2</th>\n",
       "      <td>8</td>\n",
       "      <td>5</td>\n",
       "      <td>Low</td>\n",
       "    </tr>\n",
       "    <tr>\n",
       "      <th>3</th>\n",
       "      <td>12</td>\n",
       "      <td>8</td>\n",
       "      <td>Low</td>\n",
       "    </tr>\n",
       "    <tr>\n",
       "      <th>4</th>\n",
       "      <td>3</td>\n",
       "      <td>0</td>\n",
       "      <td>Low</td>\n",
       "    </tr>\n",
       "    <tr>\n",
       "      <th>5</th>\n",
       "      <td>1</td>\n",
       "      <td>6</td>\n",
       "      <td>High</td>\n",
       "    </tr>\n",
       "    <tr>\n",
       "      <th>6</th>\n",
       "      <td>5</td>\n",
       "      <td>9</td>\n",
       "      <td>High</td>\n",
       "    </tr>\n",
       "    <tr>\n",
       "      <th>7</th>\n",
       "      <td>0</td>\n",
       "      <td>4</td>\n",
       "      <td>High</td>\n",
       "    </tr>\n",
       "    <tr>\n",
       "      <th>8</th>\n",
       "      <td>9</td>\n",
       "      <td>15</td>\n",
       "      <td>High</td>\n",
       "    </tr>\n",
       "    <tr>\n",
       "      <th>9</th>\n",
       "      <td>7</td>\n",
       "      <td>11</td>\n",
       "      <td>High</td>\n",
       "    </tr>\n",
       "  </tbody>\n",
       "</table>\n",
       "</div>"
      ],
      "text/plain": [
       "    X   Y LABEL\n",
       "0   5   0   Low\n",
       "1   9   3   Low\n",
       "2   8   5   Low\n",
       "3  12   8   Low\n",
       "4   3   0   Low\n",
       "5   1   6  High\n",
       "6   5   9  High\n",
       "7   0   4  High\n",
       "8   9  15  High\n",
       "9   7  11  High"
      ]
     },
     "execution_count": 2,
     "metadata": {},
     "output_type": "execute_result"
    }
   ],
   "source": [
    "features_cols = ['X','Y']\n",
    "label_col = 'LABEL'\n",
    "\n",
    "cords_df = pd.DataFrame([[5,0,'Low'], [9,3,'Low'], [8,5,'Low'], [12,8,'Low'], [3,0,'Low'],\n",
    "                         [1,6,'High'], [5,9,'High'], [0,4,'High'], [9,15,'High'], [7,11,'High']],\n",
    "                         columns=['X','Y','LABEL'])\n",
    "cords_df"
   ]
  },
  {
   "cell_type": "markdown",
   "metadata": {},
   "source": [
    "# Experiment Examples"
   ]
  },
  {
   "cell_type": "code",
   "execution_count": 3,
   "metadata": {},
   "outputs": [],
   "source": [
    "from sklearn.linear_model import LogisticRegression\n",
    "from sklearn.ensemble import RandomForestClassifier\n",
    "from automl_infrastructure.classifiers.adapters import SklearnClassifierAdapter\n",
    "from automl_infrastructure.classifiers import EnsembleClassifier\n",
    "from automl_infrastructure.experiment import Experiment\n",
    "from automl_infrastructure.experiment.observations import Avg, Std\n",
    "from automl_infrastructure.experiment.params import RangedParameter, ListParameter\n",
    "from automl_infrastructure.visualization import ConfusionMatrix"
   ]
  },
  {
   "cell_type": "markdown",
   "metadata": {},
   "source": [
    "# Simple Modeling & Evaluation Without Hyper-Param Optimization"
   ]
  },
  {
   "cell_type": "code",
   "execution_count": 4,
   "metadata": {
    "scrolled": false
   },
   "outputs": [
    {
     "name": "stderr",
     "output_type": "stream",
     "text": [
      "C:\\Users\\Barak\\.conda\\envs\\DSEnv\\lib\\site-packages\\sklearn\\metrics\\_classification.py:1272: UndefinedMetricWarning: Precision is ill-defined and being set to 0.0 in labels with no predicted samples. Use `zero_division` parameter to control this behavior.\n",
      "  _warn_prf(average, modifier, msg_start, len(result))\n"
     ]
    },
    {
     "name": "stdout",
     "output_type": "stream",
     "text": [
      "Experiment's name: experiment1.\n",
      "Start time: 09:18:33 - 05/06/20.\n",
      "End time: 09:18:35 - 05/06/20.\n",
      "Num of folds: 3.\n",
      "Num of k-folds repetitions: 5.\n",
      "\n",
      "---------------------------------------------------------\n",
      "Model name: lr.\n",
      "Score: 0.9777777777777777.\n",
      "\n",
      "Best hyper-parameters: {}.\n",
      "\n",
      "Train's observations:\n"
     ]
    },
    {
     "data": {
      "text/html": [
       "<div>\n",
       "<style scoped>\n",
       "    .dataframe tbody tr th:only-of-type {\n",
       "        vertical-align: middle;\n",
       "    }\n",
       "\n",
       "    .dataframe tbody tr th {\n",
       "        vertical-align: top;\n",
       "    }\n",
       "\n",
       "    .dataframe thead th {\n",
       "        text-align: right;\n",
       "    }\n",
       "</style>\n",
       "<table border=\"1\" class=\"dataframe\">\n",
       "  <thead>\n",
       "    <tr style=\"text-align: right;\">\n",
       "      <th></th>\n",
       "      <th>CLASS</th>\n",
       "      <th>avg_precision</th>\n",
       "      <th>std_precision</th>\n",
       "      <th>avg_recall</th>\n",
       "      <th>std_recall</th>\n",
       "    </tr>\n",
       "  </thead>\n",
       "  <tbody>\n",
       "    <tr>\n",
       "      <th>0</th>\n",
       "      <td>High</td>\n",
       "      <td>1.0</td>\n",
       "      <td>0.0</td>\n",
       "      <td>1.0</td>\n",
       "      <td>0.0</td>\n",
       "    </tr>\n",
       "    <tr>\n",
       "      <th>1</th>\n",
       "      <td>Low</td>\n",
       "      <td>1.0</td>\n",
       "      <td>0.0</td>\n",
       "      <td>1.0</td>\n",
       "      <td>0.0</td>\n",
       "    </tr>\n",
       "  </tbody>\n",
       "</table>\n",
       "</div>"
      ],
      "text/plain": [
       "  CLASS  avg_precision  std_precision  avg_recall  std_recall\n",
       "0  High            1.0            0.0         1.0         0.0\n",
       "1   Low            1.0            0.0         1.0         0.0"
      ]
     },
     "metadata": {},
     "output_type": "display_data"
    },
    {
     "name": "stdout",
     "output_type": "stream",
     "text": [
      "\n",
      "Train's visualizations:\n",
      "confusion_matrix:\n"
     ]
    },
    {
     "name": "stderr",
     "output_type": "stream",
     "text": [
      "C:\\Users\\Barak\\.conda\\envs\\DSEnv\\lib\\site-packages\\automl_infrastructure\\visualization\\confusion_matrix.py:71: MatplotlibDeprecationWarning: Adding an axes using the same arguments as a previous axes currently reuses the earlier instance.  In a future version, a new instance will always be created and returned.  Meanwhile, this warning can be suppressed, and the future behavior ensured, by passing a unique label to each axes instance.\n",
      "  ax = fig.add_subplot(111)\n",
      "C:\\Users\\Barak\\.conda\\envs\\DSEnv\\lib\\site-packages\\automl_infrastructure\\visualization\\confusion_matrix.py:101: UserWarning: Matplotlib is currently using module://ipykernel.pylab.backend_inline, which is a non-GUI backend, so cannot show the figure.\n",
      "  fig.show()\n"
     ]
    },
    {
     "data": {
      "image/png": "[encoded data removed]",
      "text/plain": [
       "<Figure size 360x360 with 2 Axes>"
      ]
     },
     "metadata": {
      "needs_background": "light"
     },
     "output_type": "display_data"
    },
    {
     "name": "stdout",
     "output_type": "stream",
     "text": [
      "\n",
      "Test's observations:\n"
     ]
    },
    {
     "data": {
      "text/html": [
       "<div>\n",
       "<style scoped>\n",
       "    .dataframe tbody tr th:only-of-type {\n",
       "        vertical-align: middle;\n",
       "    }\n",
       "\n",
       "    .dataframe tbody tr th {\n",
       "        vertical-align: top;\n",
       "    }\n",
       "\n",
       "    .dataframe thead th {\n",
       "        text-align: right;\n",
       "    }\n",
       "</style>\n",
       "<table border=\"1\" class=\"dataframe\">\n",
       "  <thead>\n",
       "    <tr style=\"text-align: right;\">\n",
       "      <th></th>\n",
       "      <th>CLASS</th>\n",
       "      <th>avg_precision</th>\n",
       "      <th>std_precision</th>\n",
       "      <th>avg_recall</th>\n",
       "      <th>std_recall</th>\n",
       "    </tr>\n",
       "  </thead>\n",
       "  <tbody>\n",
       "    <tr>\n",
       "      <th>0</th>\n",
       "      <td>High</td>\n",
       "      <td>1.000000</td>\n",
       "      <td>0.000000</td>\n",
       "      <td>0.966667</td>\n",
       "      <td>0.124722</td>\n",
       "    </tr>\n",
       "    <tr>\n",
       "      <th>1</th>\n",
       "      <td>Low</td>\n",
       "      <td>0.966667</td>\n",
       "      <td>0.124722</td>\n",
       "      <td>1.000000</td>\n",
       "      <td>0.000000</td>\n",
       "    </tr>\n",
       "  </tbody>\n",
       "</table>\n",
       "</div>"
      ],
      "text/plain": [
       "  CLASS  avg_precision  std_precision  avg_recall  std_recall\n",
       "0  High       1.000000       0.000000    0.966667    0.124722\n",
       "1   Low       0.966667       0.124722    1.000000    0.000000"
      ]
     },
     "metadata": {},
     "output_type": "display_data"
    },
    {
     "name": "stdout",
     "output_type": "stream",
     "text": [
      "Test's visualizations:\n",
      "confusion_matrix:\n"
     ]
    },
    {
     "name": "stderr",
     "output_type": "stream",
     "text": [
      "C:\\Users\\Barak\\.conda\\envs\\DSEnv\\lib\\site-packages\\automl_infrastructure\\visualization\\confusion_matrix.py:71: MatplotlibDeprecationWarning: Adding an axes using the same arguments as a previous axes currently reuses the earlier instance.  In a future version, a new instance will always be created and returned.  Meanwhile, this warning can be suppressed, and the future behavior ensured, by passing a unique label to each axes instance.\n",
      "  ax = fig.add_subplot(111)\n",
      "C:\\Users\\Barak\\.conda\\envs\\DSEnv\\lib\\site-packages\\automl_infrastructure\\visualization\\confusion_matrix.py:101: UserWarning: Matplotlib is currently using module://ipykernel.pylab.backend_inline, which is a non-GUI backend, so cannot show the figure.\n",
      "  fig.show()\n"
     ]
    },
    {
     "data": {
      "image/png": "[encoded data removed]",
      "text/plain": [
       "<Figure size 360x360 with 2 Axes>"
      ]
     },
     "metadata": {
      "needs_background": "light"
     },
     "output_type": "display_data"
    },
    {
     "name": "stdout",
     "output_type": "stream",
     "text": [
      "\n",
      "\n",
      "---------------------------------------------------------\n",
      "Model name: rf.\n",
      "Score: 0.5777777777777777.\n",
      "\n",
      "Best hyper-parameters: {}.\n",
      "\n",
      "Train's observations:\n"
     ]
    },
    {
     "data": {
      "text/html": [
       "<div>\n",
       "<style scoped>\n",
       "    .dataframe tbody tr th:only-of-type {\n",
       "        vertical-align: middle;\n",
       "    }\n",
       "\n",
       "    .dataframe tbody tr th {\n",
       "        vertical-align: top;\n",
       "    }\n",
       "\n",
       "    .dataframe thead th {\n",
       "        text-align: right;\n",
       "    }\n",
       "</style>\n",
       "<table border=\"1\" class=\"dataframe\">\n",
       "  <thead>\n",
       "    <tr style=\"text-align: right;\">\n",
       "      <th></th>\n",
       "      <th>CLASS</th>\n",
       "      <th>avg_precision</th>\n",
       "      <th>std_precision</th>\n",
       "      <th>avg_recall</th>\n",
       "      <th>std_recall</th>\n",
       "    </tr>\n",
       "  </thead>\n",
       "  <tbody>\n",
       "    <tr>\n",
       "      <th>0</th>\n",
       "      <td>High</td>\n",
       "      <td>1.0</td>\n",
       "      <td>0.0</td>\n",
       "      <td>1.0</td>\n",
       "      <td>0.0</td>\n",
       "    </tr>\n",
       "    <tr>\n",
       "      <th>1</th>\n",
       "      <td>Low</td>\n",
       "      <td>1.0</td>\n",
       "      <td>0.0</td>\n",
       "      <td>1.0</td>\n",
       "      <td>0.0</td>\n",
       "    </tr>\n",
       "  </tbody>\n",
       "</table>\n",
       "</div>"
      ],
      "text/plain": [
       "  CLASS  avg_precision  std_precision  avg_recall  std_recall\n",
       "0  High            1.0            0.0         1.0         0.0\n",
       "1   Low            1.0            0.0         1.0         0.0"
      ]
     },
     "metadata": {},
     "output_type": "display_data"
    },
    {
     "name": "stdout",
     "output_type": "stream",
     "text": [
      "\n",
      "Train's visualizations:\n",
      "confusion_matrix:\n"
     ]
    },
    {
     "name": "stderr",
     "output_type": "stream",
     "text": [
      "C:\\Users\\Barak\\.conda\\envs\\DSEnv\\lib\\site-packages\\automl_infrastructure\\visualization\\confusion_matrix.py:71: MatplotlibDeprecationWarning: Adding an axes using the same arguments as a previous axes currently reuses the earlier instance.  In a future version, a new instance will always be created and returned.  Meanwhile, this warning can be suppressed, and the future behavior ensured, by passing a unique label to each axes instance.\n",
      "  ax = fig.add_subplot(111)\n",
      "C:\\Users\\Barak\\.conda\\envs\\DSEnv\\lib\\site-packages\\automl_infrastructure\\visualization\\confusion_matrix.py:101: UserWarning: Matplotlib is currently using module://ipykernel.pylab.backend_inline, which is a non-GUI backend, so cannot show the figure.\n",
      "  fig.show()\n"
     ]
    },
    {
     "data": {
      "image/png": "[encoded data removed]",
      "text/plain": [
       "<Figure size 360x360 with 2 Axes>"
      ]
     },
     "metadata": {
      "needs_background": "light"
     },
     "output_type": "display_data"
    },
    {
     "name": "stdout",
     "output_type": "stream",
     "text": [
      "\n",
      "Test's observations:\n"
     ]
    },
    {
     "data": {
      "text/html": [
       "<div>\n",
       "<style scoped>\n",
       "    .dataframe tbody tr th:only-of-type {\n",
       "        vertical-align: middle;\n",
       "    }\n",
       "\n",
       "    .dataframe tbody tr th {\n",
       "        vertical-align: top;\n",
       "    }\n",
       "\n",
       "    .dataframe thead th {\n",
       "        text-align: right;\n",
       "    }\n",
       "</style>\n",
       "<table border=\"1\" class=\"dataframe\">\n",
       "  <thead>\n",
       "    <tr style=\"text-align: right;\">\n",
       "      <th></th>\n",
       "      <th>CLASS</th>\n",
       "      <th>avg_precision</th>\n",
       "      <th>std_precision</th>\n",
       "      <th>avg_recall</th>\n",
       "      <th>std_recall</th>\n",
       "    </tr>\n",
       "  </thead>\n",
       "  <tbody>\n",
       "    <tr>\n",
       "      <th>0</th>\n",
       "      <td>High</td>\n",
       "      <td>0.555556</td>\n",
       "      <td>0.314270</td>\n",
       "      <td>0.666667</td>\n",
       "      <td>0.349603</td>\n",
       "    </tr>\n",
       "    <tr>\n",
       "      <th>1</th>\n",
       "      <td>Low</td>\n",
       "      <td>0.544444</td>\n",
       "      <td>0.367507</td>\n",
       "      <td>0.600000</td>\n",
       "      <td>0.374166</td>\n",
       "    </tr>\n",
       "  </tbody>\n",
       "</table>\n",
       "</div>"
      ],
      "text/plain": [
       "  CLASS  avg_precision  std_precision  avg_recall  std_recall\n",
       "0  High       0.555556       0.314270    0.666667    0.349603\n",
       "1   Low       0.544444       0.367507    0.600000    0.374166"
      ]
     },
     "metadata": {},
     "output_type": "display_data"
    },
    {
     "name": "stdout",
     "output_type": "stream",
     "text": [
      "Test's visualizations:\n",
      "confusion_matrix:\n"
     ]
    },
    {
     "name": "stderr",
     "output_type": "stream",
     "text": [
      "C:\\Users\\Barak\\.conda\\envs\\DSEnv\\lib\\site-packages\\automl_infrastructure\\visualization\\confusion_matrix.py:71: MatplotlibDeprecationWarning: Adding an axes using the same arguments as a previous axes currently reuses the earlier instance.  In a future version, a new instance will always be created and returned.  Meanwhile, this warning can be suppressed, and the future behavior ensured, by passing a unique label to each axes instance.\n",
      "  ax = fig.add_subplot(111)\n",
      "C:\\Users\\Barak\\.conda\\envs\\DSEnv\\lib\\site-packages\\automl_infrastructure\\visualization\\confusion_matrix.py:101: UserWarning: Matplotlib is currently using module://ipykernel.pylab.backend_inline, which is a non-GUI backend, so cannot show the figure.\n",
      "  fig.show()\n"
     ]
    },
    {
     "data": {
      "image/png": "[encoded data removed]",
      "text/plain": [
       "<Figure size 360x360 with 2 Axes>"
      ]
     },
     "metadata": {
      "needs_background": "light"
     },
     "output_type": "display_data"
    },
    {
     "name": "stdout",
     "output_type": "stream",
     "text": [
      "\n",
      "\n",
      "---------------------------------------------------------\n"
     ]
    }
   ],
   "source": [
    "# create models we want to examine\n",
    "lr_model = SklearnClassifierAdapter(name='lr', sklearn_model=LogisticRegression())\n",
    "rf_model = SklearnClassifierAdapter(name='rf', sklearn_model=RandomForestClassifier())\n",
    "\n",
    "\n",
    "experiment = Experiment('experiment1', cords_df[features_cols], cords_df[label_col], \n",
    "                models=[lr_model, rf_model],\n",
    "                observations={\n",
    "                    'avg_precision': Avg(metric='precision'),\n",
    "                    'std_precision': Std(metric='precision'),\n",
    "                    'avg_recall': Avg(metric='recall'),\n",
    "                    'std_recall': Std(metric='recall')\n",
    "                },\n",
    "                visualizations={\n",
    "                    'confusion_matrix': ConfusionMatrix(figsize=(5,5))\n",
    "                },\n",
    "                objective='accuracy'\n",
    "            )\n",
    "\n",
    "experiment.run(n_jobs=1)\n",
    "experiment.print_report(print_func=display)"
   ]
  },
  {
   "cell_type": "markdown",
   "metadata": {},
   "source": [
    "# Simple Modeling & Evaluation With Hyper-Param Optimization"
   ]
  },
  {
   "cell_type": "code",
   "execution_count": 7,
   "metadata": {
    "scrolled": false
   },
   "outputs": [
    {
     "name": "stderr",
     "output_type": "stream",
     "text": [
      "[I 2020-06-05 12:27:06,994] Finished trial#0 with value: 0.7222222222222222 with parameters: {'max_depth_00296': 2, 'n_estimators_41332': 100}. Best is trial#0 with value: 0.7222222222222222.\n",
      "[I 2020-06-05 12:27:07,988] Finished trial#1 with value: 0.8333333333333334 with parameters: {'max_depth_00296': 4, 'n_estimators_41332': 50}. Best is trial#1 with value: 0.8333333333333334.\n",
      "[I 2020-06-05 12:27:08,458] Finished trial#2 with value: 0.6388888888888888 with parameters: {'max_depth_00296': 2, 'n_estimators_41332': 20}. Best is trial#1 with value: 0.8333333333333334.\n",
      "[I 2020-06-05 12:27:08,916] Finished trial#3 with value: 0.4166666666666667 with parameters: {'max_depth_00296': 2, 'n_estimators_41332': 20}. Best is trial#1 with value: 0.8333333333333334.\n",
      "[I 2020-06-05 12:27:10,817] Finished trial#4 with value: 0.2222222222222222 with parameters: {'max_depth_00296': 2, 'n_estimators_41332': 100}. Best is trial#1 with value: 0.8333333333333334.\n",
      "[I 2020-06-05 12:27:12,822] Finished trial#5 with value: 0.7777777777777777 with parameters: {'max_depth_00296': 2, 'n_estimators_41332': 100}. Best is trial#1 with value: 0.8333333333333334.\n",
      "[I 2020-06-05 12:27:13,287] Finished trial#6 with value: 0.5277777777777778 with parameters: {'max_depth_00296': 6, 'n_estimators_41332': 20}. Best is trial#1 with value: 0.8333333333333334.\n",
      "[I 2020-06-05 12:27:15,159] Finished trial#7 with value: 0.38888888888888884 with parameters: {'max_depth_00296': 6, 'n_estimators_41332': 100}. Best is trial#1 with value: 0.8333333333333334.\n",
      "[I 2020-06-05 12:27:16,164] Finished trial#8 with value: 0.49999999999999994 with parameters: {'max_depth_00296': 4, 'n_estimators_41332': 50}. Best is trial#1 with value: 0.8333333333333334.\n",
      "[I 2020-06-05 12:27:16,622] Finished trial#9 with value: 0.3333333333333333 with parameters: {'max_depth_00296': 2, 'n_estimators_41332': 20}. Best is trial#1 with value: 0.8333333333333334.\n",
      "[I 2020-06-05 12:27:17,620] Finished trial#10 with value: 0.6666666666666666 with parameters: {'max_depth_00296': 4, 'n_estimators_41332': 50}. Best is trial#1 with value: 0.8333333333333334.\n",
      "[I 2020-06-05 12:27:18,621] Finished trial#11 with value: 0.2222222222222222 with parameters: {'max_depth_00296': 4, 'n_estimators_41332': 50}. Best is trial#1 with value: 0.8333333333333334.\n",
      "[I 2020-06-05 12:27:19,615] Finished trial#12 with value: 0.611111111111111 with parameters: {'max_depth_00296': 4, 'n_estimators_41332': 50}. Best is trial#1 with value: 0.8333333333333334.\n",
      "[I 2020-06-05 12:27:21,498] Finished trial#13 with value: 0.47222222222222215 with parameters: {'max_depth_00296': 4, 'n_estimators_41332': 100}. Best is trial#1 with value: 0.8333333333333334.\n",
      "[I 2020-06-05 12:27:22,505] Finished trial#14 with value: 0.27777777777777773 with parameters: {'max_depth_00296': 2, 'n_estimators_41332': 50}. Best is trial#1 with value: 0.8333333333333334.\n",
      "[I 2020-06-05 12:27:24,390] Finished trial#15 with value: 0.47222222222222215 with parameters: {'max_depth_00296': 6, 'n_estimators_41332': 100}. Best is trial#1 with value: 0.8333333333333334.\n",
      "[I 2020-06-05 12:27:26,270] Finished trial#16 with value: 0.6666666666666666 with parameters: {'max_depth_00296': 4, 'n_estimators_41332': 100}. Best is trial#1 with value: 0.8333333333333334.\n",
      "[I 2020-06-05 12:27:27,278] Finished trial#17 with value: 0.5833333333333333 with parameters: {'max_depth_00296': 2, 'n_estimators_41332': 50}. Best is trial#1 with value: 0.8333333333333334.\n",
      "[I 2020-06-05 12:27:29,166] Finished trial#18 with value: 0.5833333333333333 with parameters: {'max_depth_00296': 4, 'n_estimators_41332': 100}. Best is trial#1 with value: 0.8333333333333334.\n",
      "[I 2020-06-05 12:27:30,209] Finished trial#19 with value: 0.5277777777777778 with parameters: {'max_depth_00296': 4, 'n_estimators_41332': 50}. Best is trial#1 with value: 0.8333333333333334.\n",
      "C:\\Users\\Barak\\.conda\\envs\\DSEnv\\lib\\site-packages\\sklearn\\metrics\\_classification.py:1272: UndefinedMetricWarning: Precision is ill-defined and being set to 0.0 in labels with no predicted samples. Use `zero_division` parameter to control this behavior.\n",
      "  _warn_prf(average, modifier, msg_start, len(result))\n"
     ]
    },
    {
     "name": "stdout",
     "output_type": "stream",
     "text": [
      "Experiment's name: experiment2.\n",
      "Start time: 09:27:05 - 05/06/20.\n",
      "End time: 09:27:31 - 05/06/20.\n",
      "Num of folds: 3.\n",
      "Num of k-folds repetitions: 5.\n",
      "\n",
      "---------------------------------------------------------\n",
      "Model name: lr.\n",
      "Score: 0.9833333333333333.\n",
      "\n",
      "Best hyper-parameters: {}.\n",
      "\n",
      "Train's observations:\n"
     ]
    },
    {
     "data": {
      "text/html": [
       "<div>\n",
       "<style scoped>\n",
       "    .dataframe tbody tr th:only-of-type {\n",
       "        vertical-align: middle;\n",
       "    }\n",
       "\n",
       "    .dataframe tbody tr th {\n",
       "        vertical-align: top;\n",
       "    }\n",
       "\n",
       "    .dataframe thead th {\n",
       "        text-align: right;\n",
       "    }\n",
       "</style>\n",
       "<table border=\"1\" class=\"dataframe\">\n",
       "  <thead>\n",
       "    <tr style=\"text-align: right;\">\n",
       "      <th></th>\n",
       "      <th>CLASS</th>\n",
       "      <th>avg_precision</th>\n",
       "      <th>std_precision</th>\n",
       "      <th>avg_recall</th>\n",
       "      <th>std_recall</th>\n",
       "    </tr>\n",
       "  </thead>\n",
       "  <tbody>\n",
       "    <tr>\n",
       "      <th>0</th>\n",
       "      <td>High</td>\n",
       "      <td>1.0</td>\n",
       "      <td>0.0</td>\n",
       "      <td>1.0</td>\n",
       "      <td>0.0</td>\n",
       "    </tr>\n",
       "    <tr>\n",
       "      <th>1</th>\n",
       "      <td>Low</td>\n",
       "      <td>1.0</td>\n",
       "      <td>0.0</td>\n",
       "      <td>1.0</td>\n",
       "      <td>0.0</td>\n",
       "    </tr>\n",
       "  </tbody>\n",
       "</table>\n",
       "</div>"
      ],
      "text/plain": [
       "  CLASS  avg_precision  std_precision  avg_recall  std_recall\n",
       "0  High            1.0            0.0         1.0         0.0\n",
       "1   Low            1.0            0.0         1.0         0.0"
      ]
     },
     "metadata": {},
     "output_type": "display_data"
    },
    {
     "name": "stdout",
     "output_type": "stream",
     "text": [
      "\n",
      "Train's visualizations:\n",
      "confusion_matrix:\n"
     ]
    },
    {
     "name": "stderr",
     "output_type": "stream",
     "text": [
      "C:\\Users\\Barak\\.conda\\envs\\DSEnv\\lib\\site-packages\\automl_infrastructure\\visualization\\confusion_matrix.py:71: MatplotlibDeprecationWarning: Adding an axes using the same arguments as a previous axes currently reuses the earlier instance.  In a future version, a new instance will always be created and returned.  Meanwhile, this warning can be suppressed, and the future behavior ensured, by passing a unique label to each axes instance.\n",
      "  ax = fig.add_subplot(111)\n",
      "C:\\Users\\Barak\\.conda\\envs\\DSEnv\\lib\\site-packages\\automl_infrastructure\\visualization\\confusion_matrix.py:101: UserWarning: Matplotlib is currently using module://ipykernel.pylab.backend_inline, which is a non-GUI backend, so cannot show the figure.\n",
      "  fig.show()\n"
     ]
    },
    {
     "data": {
      "image/png": "[encoded data removed]",
      "text/plain": [
       "<Figure size 360x360 with 2 Axes>"
      ]
     },
     "metadata": {
      "needs_background": "light"
     },
     "output_type": "display_data"
    },
    {
     "name": "stdout",
     "output_type": "stream",
     "text": [
      "\n",
      "Test's observations:\n"
     ]
    },
    {
     "data": {
      "text/html": [
       "<div>\n",
       "<style scoped>\n",
       "    .dataframe tbody tr th:only-of-type {\n",
       "        vertical-align: middle;\n",
       "    }\n",
       "\n",
       "    .dataframe tbody tr th {\n",
       "        vertical-align: top;\n",
       "    }\n",
       "\n",
       "    .dataframe thead th {\n",
       "        text-align: right;\n",
       "    }\n",
       "</style>\n",
       "<table border=\"1\" class=\"dataframe\">\n",
       "  <thead>\n",
       "    <tr style=\"text-align: right;\">\n",
       "      <th></th>\n",
       "      <th>CLASS</th>\n",
       "      <th>avg_precision</th>\n",
       "      <th>std_precision</th>\n",
       "      <th>avg_recall</th>\n",
       "      <th>std_recall</th>\n",
       "    </tr>\n",
       "  </thead>\n",
       "  <tbody>\n",
       "    <tr>\n",
       "      <th>0</th>\n",
       "      <td>High</td>\n",
       "      <td>1.000000</td>\n",
       "      <td>0.000000</td>\n",
       "      <td>0.966667</td>\n",
       "      <td>0.124722</td>\n",
       "    </tr>\n",
       "    <tr>\n",
       "      <th>1</th>\n",
       "      <td>Low</td>\n",
       "      <td>0.977778</td>\n",
       "      <td>0.083148</td>\n",
       "      <td>1.000000</td>\n",
       "      <td>0.000000</td>\n",
       "    </tr>\n",
       "  </tbody>\n",
       "</table>\n",
       "</div>"
      ],
      "text/plain": [
       "  CLASS  avg_precision  std_precision  avg_recall  std_recall\n",
       "0  High       1.000000       0.000000    0.966667    0.124722\n",
       "1   Low       0.977778       0.083148    1.000000    0.000000"
      ]
     },
     "metadata": {},
     "output_type": "display_data"
    },
    {
     "name": "stdout",
     "output_type": "stream",
     "text": [
      "Test's visualizations:\n",
      "confusion_matrix:\n"
     ]
    },
    {
     "name": "stderr",
     "output_type": "stream",
     "text": [
      "C:\\Users\\Barak\\.conda\\envs\\DSEnv\\lib\\site-packages\\automl_infrastructure\\visualization\\confusion_matrix.py:71: MatplotlibDeprecationWarning: Adding an axes using the same arguments as a previous axes currently reuses the earlier instance.  In a future version, a new instance will always be created and returned.  Meanwhile, this warning can be suppressed, and the future behavior ensured, by passing a unique label to each axes instance.\n",
      "  ax = fig.add_subplot(111)\n",
      "C:\\Users\\Barak\\.conda\\envs\\DSEnv\\lib\\site-packages\\automl_infrastructure\\visualization\\confusion_matrix.py:101: UserWarning: Matplotlib is currently using module://ipykernel.pylab.backend_inline, which is a non-GUI backend, so cannot show the figure.\n",
      "  fig.show()\n"
     ]
    },
    {
     "data": {
      "image/png": "[encoded data removed]",
      "text/plain": [
       "<Figure size 360x360 with 2 Axes>"
      ]
     },
     "metadata": {
      "needs_background": "light"
     },
     "output_type": "display_data"
    },
    {
     "name": "stdout",
     "output_type": "stream",
     "text": [
      "\n",
      "\n",
      "---------------------------------------------------------\n",
      "Model name: rf.\n",
      "Score: 0.7444444444444444.\n",
      "\n",
      "Best hyper-parameters: {'max_depth': 4, 'n_estimators': 50}.\n",
      "\n",
      "Train's observations:\n"
     ]
    },
    {
     "data": {
      "text/html": [
       "<div>\n",
       "<style scoped>\n",
       "    .dataframe tbody tr th:only-of-type {\n",
       "        vertical-align: middle;\n",
       "    }\n",
       "\n",
       "    .dataframe tbody tr th {\n",
       "        vertical-align: top;\n",
       "    }\n",
       "\n",
       "    .dataframe thead th {\n",
       "        text-align: right;\n",
       "    }\n",
       "</style>\n",
       "<table border=\"1\" class=\"dataframe\">\n",
       "  <thead>\n",
       "    <tr style=\"text-align: right;\">\n",
       "      <th></th>\n",
       "      <th>CLASS</th>\n",
       "      <th>avg_precision</th>\n",
       "      <th>std_precision</th>\n",
       "      <th>avg_recall</th>\n",
       "      <th>std_recall</th>\n",
       "    </tr>\n",
       "  </thead>\n",
       "  <tbody>\n",
       "    <tr>\n",
       "      <th>0</th>\n",
       "      <td>High</td>\n",
       "      <td>1.0</td>\n",
       "      <td>0.0</td>\n",
       "      <td>1.0</td>\n",
       "      <td>0.0</td>\n",
       "    </tr>\n",
       "    <tr>\n",
       "      <th>1</th>\n",
       "      <td>Low</td>\n",
       "      <td>1.0</td>\n",
       "      <td>0.0</td>\n",
       "      <td>1.0</td>\n",
       "      <td>0.0</td>\n",
       "    </tr>\n",
       "  </tbody>\n",
       "</table>\n",
       "</div>"
      ],
      "text/plain": [
       "  CLASS  avg_precision  std_precision  avg_recall  std_recall\n",
       "0  High            1.0            0.0         1.0         0.0\n",
       "1   Low            1.0            0.0         1.0         0.0"
      ]
     },
     "metadata": {},
     "output_type": "display_data"
    },
    {
     "name": "stdout",
     "output_type": "stream",
     "text": [
      "\n",
      "Train's visualizations:\n",
      "confusion_matrix:\n"
     ]
    },
    {
     "name": "stderr",
     "output_type": "stream",
     "text": [
      "C:\\Users\\Barak\\.conda\\envs\\DSEnv\\lib\\site-packages\\automl_infrastructure\\visualization\\confusion_matrix.py:71: MatplotlibDeprecationWarning: Adding an axes using the same arguments as a previous axes currently reuses the earlier instance.  In a future version, a new instance will always be created and returned.  Meanwhile, this warning can be suppressed, and the future behavior ensured, by passing a unique label to each axes instance.\n",
      "  ax = fig.add_subplot(111)\n",
      "C:\\Users\\Barak\\.conda\\envs\\DSEnv\\lib\\site-packages\\automl_infrastructure\\visualization\\confusion_matrix.py:101: UserWarning: Matplotlib is currently using module://ipykernel.pylab.backend_inline, which is a non-GUI backend, so cannot show the figure.\n",
      "  fig.show()\n"
     ]
    },
    {
     "data": {
      "image/png": "[encoded data removed]",
      "text/plain": [
       "<Figure size 360x360 with 2 Axes>"
      ]
     },
     "metadata": {
      "needs_background": "light"
     },
     "output_type": "display_data"
    },
    {
     "name": "stdout",
     "output_type": "stream",
     "text": [
      "\n",
      "Test's observations:\n"
     ]
    },
    {
     "data": {
      "text/html": [
       "<div>\n",
       "<style scoped>\n",
       "    .dataframe tbody tr th:only-of-type {\n",
       "        vertical-align: middle;\n",
       "    }\n",
       "\n",
       "    .dataframe tbody tr th {\n",
       "        vertical-align: top;\n",
       "    }\n",
       "\n",
       "    .dataframe thead th {\n",
       "        text-align: right;\n",
       "    }\n",
       "</style>\n",
       "<table border=\"1\" class=\"dataframe\">\n",
       "  <thead>\n",
       "    <tr style=\"text-align: right;\">\n",
       "      <th></th>\n",
       "      <th>CLASS</th>\n",
       "      <th>avg_precision</th>\n",
       "      <th>std_precision</th>\n",
       "      <th>avg_recall</th>\n",
       "      <th>std_recall</th>\n",
       "    </tr>\n",
       "  </thead>\n",
       "  <tbody>\n",
       "    <tr>\n",
       "      <th>0</th>\n",
       "      <td>High</td>\n",
       "      <td>0.833333</td>\n",
       "      <td>0.243432</td>\n",
       "      <td>0.800000</td>\n",
       "      <td>0.244949</td>\n",
       "    </tr>\n",
       "    <tr>\n",
       "      <th>1</th>\n",
       "      <td>Low</td>\n",
       "      <td>0.677778</td>\n",
       "      <td>0.346766</td>\n",
       "      <td>0.766667</td>\n",
       "      <td>0.359011</td>\n",
       "    </tr>\n",
       "  </tbody>\n",
       "</table>\n",
       "</div>"
      ],
      "text/plain": [
       "  CLASS  avg_precision  std_precision  avg_recall  std_recall\n",
       "0  High       0.833333       0.243432    0.800000    0.244949\n",
       "1   Low       0.677778       0.346766    0.766667    0.359011"
      ]
     },
     "metadata": {},
     "output_type": "display_data"
    },
    {
     "name": "stdout",
     "output_type": "stream",
     "text": [
      "Test's visualizations:\n",
      "confusion_matrix:\n"
     ]
    },
    {
     "name": "stderr",
     "output_type": "stream",
     "text": [
      "C:\\Users\\Barak\\.conda\\envs\\DSEnv\\lib\\site-packages\\automl_infrastructure\\visualization\\confusion_matrix.py:71: MatplotlibDeprecationWarning: Adding an axes using the same arguments as a previous axes currently reuses the earlier instance.  In a future version, a new instance will always be created and returned.  Meanwhile, this warning can be suppressed, and the future behavior ensured, by passing a unique label to each axes instance.\n",
      "  ax = fig.add_subplot(111)\n",
      "C:\\Users\\Barak\\.conda\\envs\\DSEnv\\lib\\site-packages\\automl_infrastructure\\visualization\\confusion_matrix.py:101: UserWarning: Matplotlib is currently using module://ipykernel.pylab.backend_inline, which is a non-GUI backend, so cannot show the figure.\n",
      "  fig.show()\n"
     ]
    },
    {
     "data": {
      "image/png": "[encoded data removed]",
      "text/plain": [
       "<Figure size 360x360 with 2 Axes>"
      ]
     },
     "metadata": {
      "needs_background": "light"
     },
     "output_type": "display_data"
    },
    {
     "name": "stdout",
     "output_type": "stream",
     "text": [
      "\n",
      "\n",
      "---------------------------------------------------------\n"
     ]
    }
   ],
   "source": [
    "# create models we want to examine\n",
    "lr_model = SklearnClassifierAdapter(name='lr', sklearn_model=LogisticRegression())\n",
    "rf_model = SklearnClassifierAdapter(name='rf', sklearn_model=RandomForestClassifier())\n",
    "\n",
    "# declare hyper-params we want to optimize\n",
    "hyper_parameters = {\n",
    "    'rf': [ListParameter('max_depth', options=[2, 4, 6]), \n",
    "           ListParameter('n_estimators', options=[20, 50, 100])]\n",
    "}\n",
    "\n",
    "experiment = Experiment('experiment2', cords_df[features_cols], cords_df[label_col], \n",
    "                models=[lr_model, rf_model],\n",
    "                hyper_parameters=hyper_parameters, \n",
    "                observations={\n",
    "                    'avg_precision': Avg(metric='precision'),\n",
    "                    'std_precision': Std(metric='precision'),\n",
    "                    'avg_recall': Avg(metric='recall'),\n",
    "                    'std_recall': Std(metric='recall')\n",
    "                },\n",
    "                visualizations={\n",
    "                    'confusion_matrix': ConfusionMatrix(figsize=(5,5))\n",
    "                },\n",
    "                objective='accuracy'\n",
    "            )\n",
    "\n",
    "experiment.run(n_trials=20, n_jobs=1)\n",
    "experiment.print_report(print_func=display)"
   ]
  },
  {
   "cell_type": "markdown",
   "metadata": {},
   "source": [
    "# Complex Modeling & Evaluation With Hyper-Param Optimization"
   ]
  },
  {
   "cell_type": "code",
   "execution_count": 9,
   "metadata": {
    "scrolled": false
   },
   "outputs": [
    {
     "name": "stderr",
     "output_type": "stream",
     "text": [
      "[I 2020-06-05 12:29:22,302] Finished trial#0 with value: 1.0 with parameters: {'C_56807': 0.1, 'C_24716': 0.5}. Best is trial#0 with value: 1.0.\n",
      "[I 2020-06-05 12:29:22,568] Finished trial#1 with value: 1.0 with parameters: {'C_56807': 0.1, 'C_24716': 0.1}. Best is trial#0 with value: 1.0.\n",
      "[I 2020-06-05 12:29:22,844] Finished trial#2 with value: 1.0 with parameters: {'C_56807': 0.5, 'C_24716': 0.5}. Best is trial#0 with value: 1.0.\n"
     ]
    },
    {
     "name": "stdout",
     "output_type": "stream",
     "text": [
      "Experiment's name: experiment1.\n",
      "Start time: 09:29:21 - 05/06/20.\n",
      "End time: 09:29:23 - 05/06/20.\n",
      "Num of folds: 3.\n",
      "Num of k-folds repetitions: 5.\n",
      "\n",
      "---------------------------------------------------------\n",
      "Model name: blending.\n",
      "Score: 0.95.\n",
      "\n",
      "Best hyper-parameters: {'sub_lr1': {'C': 0.1}, 'sub_lr2': {'C': 0.5}}.\n",
      "\n",
      "Train's observations:\n"
     ]
    },
    {
     "data": {
      "text/html": [
       "<div>\n",
       "<style scoped>\n",
       "    .dataframe tbody tr th:only-of-type {\n",
       "        vertical-align: middle;\n",
       "    }\n",
       "\n",
       "    .dataframe tbody tr th {\n",
       "        vertical-align: top;\n",
       "    }\n",
       "\n",
       "    .dataframe thead th {\n",
       "        text-align: right;\n",
       "    }\n",
       "</style>\n",
       "<table border=\"1\" class=\"dataframe\">\n",
       "  <thead>\n",
       "    <tr style=\"text-align: right;\">\n",
       "      <th></th>\n",
       "      <th>CLASS</th>\n",
       "      <th>avg_precision</th>\n",
       "      <th>avg_recall</th>\n",
       "    </tr>\n",
       "  </thead>\n",
       "  <tbody>\n",
       "    <tr>\n",
       "      <th>0</th>\n",
       "      <td>High</td>\n",
       "      <td>1.0</td>\n",
       "      <td>1.0</td>\n",
       "    </tr>\n",
       "    <tr>\n",
       "      <th>1</th>\n",
       "      <td>Low</td>\n",
       "      <td>1.0</td>\n",
       "      <td>1.0</td>\n",
       "    </tr>\n",
       "  </tbody>\n",
       "</table>\n",
       "</div>"
      ],
      "text/plain": [
       "  CLASS  avg_precision  avg_recall\n",
       "0  High            1.0         1.0\n",
       "1   Low            1.0         1.0"
      ]
     },
     "metadata": {},
     "output_type": "display_data"
    },
    {
     "name": "stdout",
     "output_type": "stream",
     "text": [
      "\n",
      "Train's visualizations:\n",
      "confusion_matrix:\n"
     ]
    },
    {
     "name": "stderr",
     "output_type": "stream",
     "text": [
      "C:\\Users\\Barak\\.conda\\envs\\DSEnv\\lib\\site-packages\\automl_infrastructure\\visualization\\confusion_matrix.py:71: MatplotlibDeprecationWarning: Adding an axes using the same arguments as a previous axes currently reuses the earlier instance.  In a future version, a new instance will always be created and returned.  Meanwhile, this warning can be suppressed, and the future behavior ensured, by passing a unique label to each axes instance.\n",
      "  ax = fig.add_subplot(111)\n",
      "C:\\Users\\Barak\\.conda\\envs\\DSEnv\\lib\\site-packages\\automl_infrastructure\\visualization\\confusion_matrix.py:101: UserWarning: Matplotlib is currently using module://ipykernel.pylab.backend_inline, which is a non-GUI backend, so cannot show the figure.\n",
      "  fig.show()\n"
     ]
    },
    {
     "data": {
      "image/png": "[encoded data removed]",
      "text/plain": [
       "<Figure size 360x360 with 2 Axes>"
      ]
     },
     "metadata": {
      "needs_background": "light"
     },
     "output_type": "display_data"
    },
    {
     "name": "stdout",
     "output_type": "stream",
     "text": [
      "\n",
      "Test's observations:\n"
     ]
    },
    {
     "data": {
      "text/html": [
       "<div>\n",
       "<style scoped>\n",
       "    .dataframe tbody tr th:only-of-type {\n",
       "        vertical-align: middle;\n",
       "    }\n",
       "\n",
       "    .dataframe tbody tr th {\n",
       "        vertical-align: top;\n",
       "    }\n",
       "\n",
       "    .dataframe thead th {\n",
       "        text-align: right;\n",
       "    }\n",
       "</style>\n",
       "<table border=\"1\" class=\"dataframe\">\n",
       "  <thead>\n",
       "    <tr style=\"text-align: right;\">\n",
       "      <th></th>\n",
       "      <th>CLASS</th>\n",
       "      <th>avg_precision</th>\n",
       "      <th>avg_recall</th>\n",
       "    </tr>\n",
       "  </thead>\n",
       "  <tbody>\n",
       "    <tr>\n",
       "      <th>0</th>\n",
       "      <td>High</td>\n",
       "      <td>0.944444</td>\n",
       "      <td>0.966667</td>\n",
       "    </tr>\n",
       "    <tr>\n",
       "      <th>1</th>\n",
       "      <td>Low</td>\n",
       "      <td>0.966667</td>\n",
       "      <td>0.933333</td>\n",
       "    </tr>\n",
       "  </tbody>\n",
       "</table>\n",
       "</div>"
      ],
      "text/plain": [
       "  CLASS  avg_precision  avg_recall\n",
       "0  High       0.944444    0.966667\n",
       "1   Low       0.966667    0.933333"
      ]
     },
     "metadata": {},
     "output_type": "display_data"
    },
    {
     "name": "stdout",
     "output_type": "stream",
     "text": [
      "Test's visualizations:\n",
      "confusion_matrix:\n"
     ]
    },
    {
     "name": "stderr",
     "output_type": "stream",
     "text": [
      "C:\\Users\\Barak\\.conda\\envs\\DSEnv\\lib\\site-packages\\automl_infrastructure\\visualization\\confusion_matrix.py:71: MatplotlibDeprecationWarning: Adding an axes using the same arguments as a previous axes currently reuses the earlier instance.  In a future version, a new instance will always be created and returned.  Meanwhile, this warning can be suppressed, and the future behavior ensured, by passing a unique label to each axes instance.\n",
      "  ax = fig.add_subplot(111)\n",
      "C:\\Users\\Barak\\.conda\\envs\\DSEnv\\lib\\site-packages\\automl_infrastructure\\visualization\\confusion_matrix.py:101: UserWarning: Matplotlib is currently using module://ipykernel.pylab.backend_inline, which is a non-GUI backend, so cannot show the figure.\n",
      "  fig.show()\n"
     ]
    },
    {
     "data": {
      "image/png": "[encoded data removed]",
      "text/plain": [
       "<Figure size 360x360 with 2 Axes>"
      ]
     },
     "metadata": {
      "needs_background": "light"
     },
     "output_type": "display_data"
    },
    {
     "name": "stdout",
     "output_type": "stream",
     "text": [
      "\n",
      "\n",
      "---------------------------------------------------------\n"
     ]
    }
   ],
   "source": [
    "# create models we want to examine\n",
    "complex_blending_model = EnsembleClassifier(\n",
    "                        name='blending', \n",
    "                        input_models=[SklearnClassifierAdapter(name='sub_lr1', sklearn_model=LogisticRegression()),\n",
    "                                      SklearnClassifierAdapter(name='sub_lr2', sklearn_model=LogisticRegression())],\n",
    "    \n",
    "                        ensemble_model=SklearnClassifierAdapter(name='top_lr', sklearn_model=LogisticRegression())\n",
    "                    )\n",
    "\n",
    "# declare hyper-params we want to optimize\n",
    "hyper_parameters = {\n",
    "    'blending':{\n",
    "        'sub_lr1': [ListParameter('C', options=[0.1, 0.5])],\n",
    "        'sub_lr2': [ListParameter('C', options=[0.1, 0.5])],\n",
    "    }\n",
    "}\n",
    "\n",
    "experiment = Experiment('experiment1', cords_df[features_cols], cords_df[label_col], \n",
    "                models=[complex_blending_model], \n",
    "                hyper_parameters=hyper_parameters, \n",
    "                observations={\n",
    "                    'avg_precision': Avg(metric='precision'),\n",
    "                    'avg_recall': Avg(metric='recall')\n",
    "                },\n",
    "                visualizations={\n",
    "                    'confusion_matrix': ConfusionMatrix(figsize=(5,5))\n",
    "                },\n",
    "                objective='accuracy'\n",
    "            )\n",
    "\n",
    "experiment.run(n_jobs=1)\n",
    "experiment.print_report(print_func=display)"
   ]
  },
  {
   "cell_type": "code",
   "execution_count": null,
   "metadata": {},
   "outputs": [],
   "source": []
  }
 ],
 "metadata": {
  "kernelspec": {
   "display_name": "Python 3",
   "language": "python",
   "name": "python3"
  },
  "language_info": {
   "codemirror_mode": {
    "name": "ipython",
    "version": 3
   },
   "file_extension": ".py",
   "mimetype": "text/x-python",
   "name": "python",
   "nbconvert_exporter": "python",
   "pygments_lexer": "ipython3",
   "version": "3.7.7"
  }
 },
 "nbformat": 4,
 "nbformat_minor": 4
}
