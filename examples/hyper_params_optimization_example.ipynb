{
 "cells": [
  {
   "cell_type": "markdown",
   "metadata": {},
   "source": [
    "# Imports"
   ]
  },
  {
   "cell_type": "code",
   "execution_count": 1,
   "metadata": {},
   "outputs": [],
   "source": [
    "import pandas as pd\n",
    "import numpy as np\n",
    "from IPython.display import display"
   ]
  },
  {
   "cell_type": "markdown",
   "metadata": {},
   "source": [
    "# Dataset Creation"
   ]
  },
  {
   "cell_type": "code",
   "execution_count": 2,
   "metadata": {},
   "outputs": [
    {
     "data": {
      "text/html": [
       "<div>\n",
       "<style scoped>\n",
       "    .dataframe tbody tr th:only-of-type {\n",
       "        vertical-align: middle;\n",
       "    }\n",
       "\n",
       "    .dataframe tbody tr th {\n",
       "        vertical-align: top;\n",
       "    }\n",
       "\n",
       "    .dataframe thead th {\n",
       "        text-align: right;\n",
       "    }\n",
       "</style>\n",
       "<table border=\"1\" class=\"dataframe\">\n",
       "  <thead>\n",
       "    <tr style=\"text-align: right;\">\n",
       "      <th></th>\n",
       "      <th>X</th>\n",
       "      <th>Y</th>\n",
       "      <th>LABEL</th>\n",
       "    </tr>\n",
       "  </thead>\n",
       "  <tbody>\n",
       "    <tr>\n",
       "      <th>0</th>\n",
       "      <td>5</td>\n",
       "      <td>0</td>\n",
       "      <td>Low</td>\n",
       "    </tr>\n",
       "    <tr>\n",
       "      <th>1</th>\n",
       "      <td>9</td>\n",
       "      <td>3</td>\n",
       "      <td>Low</td>\n",
       "    </tr>\n",
       "    <tr>\n",
       "      <th>2</th>\n",
       "      <td>8</td>\n",
       "      <td>5</td>\n",
       "      <td>Low</td>\n",
       "    </tr>\n",
       "    <tr>\n",
       "      <th>3</th>\n",
       "      <td>12</td>\n",
       "      <td>8</td>\n",
       "      <td>Low</td>\n",
       "    </tr>\n",
       "    <tr>\n",
       "      <th>4</th>\n",
       "      <td>3</td>\n",
       "      <td>0</td>\n",
       "      <td>Low</td>\n",
       "    </tr>\n",
       "    <tr>\n",
       "      <th>5</th>\n",
       "      <td>1</td>\n",
       "      <td>6</td>\n",
       "      <td>High</td>\n",
       "    </tr>\n",
       "    <tr>\n",
       "      <th>6</th>\n",
       "      <td>5</td>\n",
       "      <td>9</td>\n",
       "      <td>High</td>\n",
       "    </tr>\n",
       "    <tr>\n",
       "      <th>7</th>\n",
       "      <td>0</td>\n",
       "      <td>4</td>\n",
       "      <td>High</td>\n",
       "    </tr>\n",
       "    <tr>\n",
       "      <th>8</th>\n",
       "      <td>9</td>\n",
       "      <td>15</td>\n",
       "      <td>High</td>\n",
       "    </tr>\n",
       "    <tr>\n",
       "      <th>9</th>\n",
       "      <td>7</td>\n",
       "      <td>11</td>\n",
       "      <td>High</td>\n",
       "    </tr>\n",
       "  </tbody>\n",
       "</table>\n",
       "</div>"
      ],
      "text/plain": [
       "    X   Y LABEL\n",
       "0   5   0   Low\n",
       "1   9   3   Low\n",
       "2   8   5   Low\n",
       "3  12   8   Low\n",
       "4   3   0   Low\n",
       "5   1   6  High\n",
       "6   5   9  High\n",
       "7   0   4  High\n",
       "8   9  15  High\n",
       "9   7  11  High"
      ]
     },
     "execution_count": 2,
     "metadata": {},
     "output_type": "execute_result"
    }
   ],
   "source": [
    "features_cols = ['X','Y']\n",
    "label_col = 'LABEL'\n",
    "\n",
    "cords_df = pd.DataFrame([[5,0,'Low'], [9,3,'Low'], [8,5,'Low'], [12,8,'Low'], [3,0,'Low'],\n",
    "                         [1,6,'High'], [5,9,'High'], [0,4,'High'], [9,15,'High'], [7,11,'High']],\n",
    "                         columns=['X','Y','LABEL'])\n",
    "cords_df"
   ]
  },
  {
   "cell_type": "markdown",
   "metadata": {},
   "source": [
    "# Experiment Examples"
   ]
  },
  {
   "cell_type": "code",
   "execution_count": 3,
   "metadata": {},
   "outputs": [],
   "source": [
    "from sklearn.linear_model import LogisticRegression\n",
    "from sklearn.ensemble import RandomForestClassifier\n",
    "from automl_infrastructure.classifiers.adapters import SklearnClassifierAdapter\n",
    "from automl_infrastructure.classifiers import EnsembleClassifier\n",
    "from automl_infrastructure.experiment import Experiment\n",
    "from automl_infrastructure.experiment.observations import Avg, Std\n",
    "from automl_infrastructure.experiment.params import RangedParameter, ListParameter\n",
    "from automl_infrastructure.visualization import ConfusionMatrix"
   ]
  },
  {
   "cell_type": "markdown",
   "metadata": {},
   "source": [
    "# Simple Modeling & Evaluation Without Hyper-Param Optimization"
   ]
  },
  {
   "cell_type": "code",
   "execution_count": 4,
   "metadata": {
    "scrolled": false
   },
   "outputs": [
    {
     "name": "stderr",
     "output_type": "stream",
     "text": [
      "C:\\Users\\Barak\\.conda\\envs\\DSEnv\\lib\\site-packages\\sklearn\\metrics\\_classification.py:1272: UndefinedMetricWarning: Precision is ill-defined and being set to 0.0 in labels with no predicted samples. Use `zero_division` parameter to control this behavior.\n",
      "  _warn_prf(average, modifier, msg_start, len(result))\n"
     ]
    },
    {
     "name": "stdout",
     "output_type": "stream",
     "text": [
      "Experiment's name: experiment1.\n",
      "Start time: 09:33:41 - 05/06/20.\n",
      "End time: 09:33:44 - 05/06/20.\n",
      "Num of folds: 3.\n",
      "Num of k-folds repetitions: 5.\n",
      "\n",
      "---------------------------------------------------------\n",
      "Model name: lr.\n",
      "Score: 0.9833333333333333.\n",
      "\n",
      "Best hyper-parameters: {}.\n",
      "\n",
      "Train's observations:\n"
     ]
    },
    {
     "data": {
      "text/html": [
       "<div>\n",
       "<style scoped>\n",
       "    .dataframe tbody tr th:only-of-type {\n",
       "        vertical-align: middle;\n",
       "    }\n",
       "\n",
       "    .dataframe tbody tr th {\n",
       "        vertical-align: top;\n",
       "    }\n",
       "\n",
       "    .dataframe thead th {\n",
       "        text-align: right;\n",
       "    }\n",
       "</style>\n",
       "<table border=\"1\" class=\"dataframe\">\n",
       "  <thead>\n",
       "    <tr style=\"text-align: right;\">\n",
       "      <th></th>\n",
       "      <th>CLASS</th>\n",
       "      <th>avg_precision</th>\n",
       "      <th>std_precision</th>\n",
       "      <th>avg_recall</th>\n",
       "      <th>std_recall</th>\n",
       "    </tr>\n",
       "  </thead>\n",
       "  <tbody>\n",
       "    <tr>\n",
       "      <th>0</th>\n",
       "      <td>High</td>\n",
       "      <td>1.0</td>\n",
       "      <td>0.0</td>\n",
       "      <td>1.0</td>\n",
       "      <td>0.0</td>\n",
       "    </tr>\n",
       "    <tr>\n",
       "      <th>1</th>\n",
       "      <td>Low</td>\n",
       "      <td>1.0</td>\n",
       "      <td>0.0</td>\n",
       "      <td>1.0</td>\n",
       "      <td>0.0</td>\n",
       "    </tr>\n",
       "  </tbody>\n",
       "</table>\n",
       "</div>"
      ],
      "text/plain": [
       "  CLASS  avg_precision  std_precision  avg_recall  std_recall\n",
       "0  High            1.0            0.0         1.0         0.0\n",
       "1   Low            1.0            0.0         1.0         0.0"
      ]
     },
     "metadata": {},
     "output_type": "display_data"
    },
    {
     "name": "stdout",
     "output_type": "stream",
     "text": [
      "\n",
      "Train's visualizations:\n",
      "confusion_matrix:\n"
     ]
    },
    {
     "name": "stderr",
     "output_type": "stream",
     "text": [
      "C:\\Users\\Barak\\.conda\\envs\\DSEnv\\lib\\site-packages\\automl_infrastructure\\visualization\\confusion_matrix.py:71: MatplotlibDeprecationWarning: Adding an axes using the same arguments as a previous axes currently reuses the earlier instance.  In a future version, a new instance will always be created and returned.  Meanwhile, this warning can be suppressed, and the future behavior ensured, by passing a unique label to each axes instance.\n",
      "  ax = fig.add_subplot(111)\n",
      "C:\\Users\\Barak\\.conda\\envs\\DSEnv\\lib\\site-packages\\automl_infrastructure\\visualization\\confusion_matrix.py:101: UserWarning: Matplotlib is currently using module://ipykernel.pylab.backend_inline, which is a non-GUI backend, so cannot show the figure.\n",
      "  fig.show()\n"
     ]
    },
    {
     "data": {
      "image/png": "[encoded data removed]",
      "text/plain": [
       "<Figure size 360x360 with 2 Axes>"
      ]
     },
     "metadata": {
      "needs_background": "light"
     },
     "output_type": "display_data"
    },
    {
     "name": "stdout",
     "output_type": "stream",
     "text": [
      "\n",
      "Test's observations:\n"
     ]
    },
    {
     "data": {
      "text/html": [
       "<div>\n",
       "<style scoped>\n",
       "    .dataframe tbody tr th:only-of-type {\n",
       "        vertical-align: middle;\n",
       "    }\n",
       "\n",
       "    .dataframe tbody tr th {\n",
       "        vertical-align: top;\n",
       "    }\n",
       "\n",
       "    .dataframe thead th {\n",
       "        text-align: right;\n",
       "    }\n",
       "</style>\n",
       "<table border=\"1\" class=\"dataframe\">\n",
       "  <thead>\n",
       "    <tr style=\"text-align: right;\">\n",
       "      <th></th>\n",
       "      <th>CLASS</th>\n",
       "      <th>avg_precision</th>\n",
       "      <th>std_precision</th>\n",
       "      <th>avg_recall</th>\n",
       "      <th>std_recall</th>\n",
       "    </tr>\n",
       "  </thead>\n",
       "  <tbody>\n",
       "    <tr>\n",
       "      <th>0</th>\n",
       "      <td>High</td>\n",
       "      <td>1.000000</td>\n",
       "      <td>0.000000</td>\n",
       "      <td>0.966667</td>\n",
       "      <td>0.124722</td>\n",
       "    </tr>\n",
       "    <tr>\n",
       "      <th>1</th>\n",
       "      <td>Low</td>\n",
       "      <td>0.977778</td>\n",
       "      <td>0.083148</td>\n",
       "      <td>1.000000</td>\n",
       "      <td>0.000000</td>\n",
       "    </tr>\n",
       "  </tbody>\n",
       "</table>\n",
       "</div>"
      ],
      "text/plain": [
       "  CLASS  avg_precision  std_precision  avg_recall  std_recall\n",
       "0  High       1.000000       0.000000    0.966667    0.124722\n",
       "1   Low       0.977778       0.083148    1.000000    0.000000"
      ]
     },
     "metadata": {},
     "output_type": "display_data"
    },
    {
     "name": "stdout",
     "output_type": "stream",
     "text": [
      "Test's visualizations:\n",
      "confusion_matrix:\n"
     ]
    },
    {
     "name": "stderr",
     "output_type": "stream",
     "text": [
      "C:\\Users\\Barak\\.conda\\envs\\DSEnv\\lib\\site-packages\\automl_infrastructure\\visualization\\confusion_matrix.py:71: MatplotlibDeprecationWarning: Adding an axes using the same arguments as a previous axes currently reuses the earlier instance.  In a future version, a new instance will always be created and returned.  Meanwhile, this warning can be suppressed, and the future behavior ensured, by passing a unique label to each axes instance.\n",
      "  ax = fig.add_subplot(111)\n",
      "C:\\Users\\Barak\\.conda\\envs\\DSEnv\\lib\\site-packages\\automl_infrastructure\\visualization\\confusion_matrix.py:101: UserWarning: Matplotlib is currently using module://ipykernel.pylab.backend_inline, which is a non-GUI backend, so cannot show the figure.\n",
      "  fig.show()\n"
     ]
    },
    {
     "data": {
      "image/png": "[encoded data removed]",
      "text/plain": [
       "<Figure size 360x360 with 2 Axes>"
      ]
     },
     "metadata": {
      "needs_background": "light"
     },
     "output_type": "display_data"
    },
    {
     "name": "stdout",
     "output_type": "stream",
     "text": [
      "\n",
      "\n",
      "---------------------------------------------------------\n",
      "Model name: rf.\n",
      "Score: 0.6555555555555554.\n",
      "\n",
      "Best hyper-parameters: {}.\n",
      "\n",
      "Train's observations:\n"
     ]
    },
    {
     "data": {
      "text/html": [
       "<div>\n",
       "<style scoped>\n",
       "    .dataframe tbody tr th:only-of-type {\n",
       "        vertical-align: middle;\n",
       "    }\n",
       "\n",
       "    .dataframe tbody tr th {\n",
       "        vertical-align: top;\n",
       "    }\n",
       "\n",
       "    .dataframe thead th {\n",
       "        text-align: right;\n",
       "    }\n",
       "</style>\n",
       "<table border=\"1\" class=\"dataframe\">\n",
       "  <thead>\n",
       "    <tr style=\"text-align: right;\">\n",
       "      <th></th>\n",
       "      <th>CLASS</th>\n",
       "      <th>avg_precision</th>\n",
       "      <th>std_precision</th>\n",
       "      <th>avg_recall</th>\n",
       "      <th>std_recall</th>\n",
       "    </tr>\n",
       "  </thead>\n",
       "  <tbody>\n",
       "    <tr>\n",
       "      <th>0</th>\n",
       "      <td>High</td>\n",
       "      <td>1.0</td>\n",
       "      <td>0.0</td>\n",
       "      <td>1.0</td>\n",
       "      <td>0.0</td>\n",
       "    </tr>\n",
       "    <tr>\n",
       "      <th>1</th>\n",
       "      <td>Low</td>\n",
       "      <td>1.0</td>\n",
       "      <td>0.0</td>\n",
       "      <td>1.0</td>\n",
       "      <td>0.0</td>\n",
       "    </tr>\n",
       "  </tbody>\n",
       "</table>\n",
       "</div>"
      ],
      "text/plain": [
       "  CLASS  avg_precision  std_precision  avg_recall  std_recall\n",
       "0  High            1.0            0.0         1.0         0.0\n",
       "1   Low            1.0            0.0         1.0         0.0"
      ]
     },
     "metadata": {},
     "output_type": "display_data"
    },
    {
     "name": "stdout",
     "output_type": "stream",
     "text": [
      "\n",
      "Train's visualizations:\n",
      "confusion_matrix:\n"
     ]
    },
    {
     "name": "stderr",
     "output_type": "stream",
     "text": [
      "C:\\Users\\Barak\\.conda\\envs\\DSEnv\\lib\\site-packages\\automl_infrastructure\\visualization\\confusion_matrix.py:71: MatplotlibDeprecationWarning: Adding an axes using the same arguments as a previous axes currently reuses the earlier instance.  In a future version, a new instance will always be created and returned.  Meanwhile, this warning can be suppressed, and the future behavior ensured, by passing a unique label to each axes instance.\n",
      "  ax = fig.add_subplot(111)\n",
      "C:\\Users\\Barak\\.conda\\envs\\DSEnv\\lib\\site-packages\\automl_infrastructure\\visualization\\confusion_matrix.py:101: UserWarning: Matplotlib is currently using module://ipykernel.pylab.backend_inline, which is a non-GUI backend, so cannot show the figure.\n",
      "  fig.show()\n"
     ]
    },
    {
     "data": {
      "image/png": "[encoded data removed]",
      "text/plain": [
       "<Figure size 360x360 with 2 Axes>"
      ]
     },
     "metadata": {
      "needs_background": "light"
     },
     "output_type": "display_data"
    },
    {
     "name": "stdout",
     "output_type": "stream",
     "text": [
      "\n",
      "Test's observations:\n"
     ]
    },
    {
     "data": {
      "text/html": [
       "<div>\n",
       "<style scoped>\n",
       "    .dataframe tbody tr th:only-of-type {\n",
       "        vertical-align: middle;\n",
       "    }\n",
       "\n",
       "    .dataframe tbody tr th {\n",
       "        vertical-align: top;\n",
       "    }\n",
       "\n",
       "    .dataframe thead th {\n",
       "        text-align: right;\n",
       "    }\n",
       "</style>\n",
       "<table border=\"1\" class=\"dataframe\">\n",
       "  <thead>\n",
       "    <tr style=\"text-align: right;\">\n",
       "      <th></th>\n",
       "      <th>CLASS</th>\n",
       "      <th>avg_precision</th>\n",
       "      <th>std_precision</th>\n",
       "      <th>avg_recall</th>\n",
       "      <th>std_recall</th>\n",
       "    </tr>\n",
       "  </thead>\n",
       "  <tbody>\n",
       "    <tr>\n",
       "      <th>0</th>\n",
       "      <td>High</td>\n",
       "      <td>0.600000</td>\n",
       "      <td>0.359011</td>\n",
       "      <td>0.633333</td>\n",
       "      <td>0.385861</td>\n",
       "    </tr>\n",
       "    <tr>\n",
       "      <th>1</th>\n",
       "      <td>Low</td>\n",
       "      <td>0.711111</td>\n",
       "      <td>0.307117</td>\n",
       "      <td>0.700000</td>\n",
       "      <td>0.305505</td>\n",
       "    </tr>\n",
       "  </tbody>\n",
       "</table>\n",
       "</div>"
      ],
      "text/plain": [
       "  CLASS  avg_precision  std_precision  avg_recall  std_recall\n",
       "0  High       0.600000       0.359011    0.633333    0.385861\n",
       "1   Low       0.711111       0.307117    0.700000    0.305505"
      ]
     },
     "metadata": {},
     "output_type": "display_data"
    },
    {
     "name": "stdout",
     "output_type": "stream",
     "text": [
      "Test's visualizations:\n",
      "confusion_matrix:\n"
     ]
    },
    {
     "name": "stderr",
     "output_type": "stream",
     "text": [
      "C:\\Users\\Barak\\.conda\\envs\\DSEnv\\lib\\site-packages\\automl_infrastructure\\visualization\\confusion_matrix.py:71: MatplotlibDeprecationWarning: Adding an axes using the same arguments as a previous axes currently reuses the earlier instance.  In a future version, a new instance will always be created and returned.  Meanwhile, this warning can be suppressed, and the future behavior ensured, by passing a unique label to each axes instance.\n",
      "  ax = fig.add_subplot(111)\n",
      "C:\\Users\\Barak\\.conda\\envs\\DSEnv\\lib\\site-packages\\automl_infrastructure\\visualization\\confusion_matrix.py:101: UserWarning: Matplotlib is currently using module://ipykernel.pylab.backend_inline, which is a non-GUI backend, so cannot show the figure.\n",
      "  fig.show()\n"
     ]
    },
    {
     "data": {
      "image/png": "[encoded data removed]",
      "text/plain": [
       "<Figure size 360x360 with 2 Axes>"
      ]
     },
     "metadata": {
      "needs_background": "light"
     },
     "output_type": "display_data"
    },
    {
     "name": "stdout",
     "output_type": "stream",
     "text": [
      "\n",
      "\n",
      "---------------------------------------------------------\n"
     ]
    }
   ],
   "source": [
    "# create models we want to examine\n",
    "lr_model = SklearnClassifierAdapter(name='lr', sklearn_model=LogisticRegression())\n",
    "rf_model = SklearnClassifierAdapter(name='rf', sklearn_model=RandomForestClassifier())\n",
    "\n",
    "\n",
    "experiment = Experiment('experiment1', cords_df[features_cols], cords_df[label_col], \n",
    "                models=[lr_model, rf_model],\n",
    "                observations={\n",
    "                    'avg_precision': Avg(metric='precision'),\n",
    "                    'std_precision': Std(metric='precision'),\n",
    "                    'avg_recall': Avg(metric='recall'),\n",
    "                    'std_recall': Std(metric='recall')\n",
    "                },\n",
    "                visualizations={\n",
    "                    'confusion_matrix': ConfusionMatrix(figsize=(5,5))\n",
    "                },\n",
    "                objective='accuracy'\n",
    "            )\n",
    "\n",
    "experiment.run(n_jobs=1)\n",
    "experiment.print_report(print_func=display)"
   ]
  },
  {
   "cell_type": "markdown",
   "metadata": {},
   "source": [
    "# Simple Modeling & Evaluation With Hyper-Param Optimization"
   ]
  },
  {
   "cell_type": "code",
   "execution_count": 5,
   "metadata": {
    "scrolled": false
   },
   "outputs": [
    {
     "name": "stderr",
     "output_type": "stream",
     "text": [
      "[I 2020-06-05 12:33:51,220] Finished trial#0 with value: 0.4166666666666667 with parameters: {'max_depth_68272': 4, 'n_estimators_01867': 50}. Best is trial#0 with value: 0.4166666666666667.\n",
      "[I 2020-06-05 12:33:52,237] Finished trial#1 with value: 0.5 with parameters: {'max_depth_68272': 4, 'n_estimators_01867': 50}. Best is trial#1 with value: 0.5.\n",
      "[I 2020-06-05 12:33:54,175] Finished trial#2 with value: 0.611111111111111 with parameters: {'max_depth_68272': 2, 'n_estimators_01867': 100}. Best is trial#2 with value: 0.611111111111111.\n",
      "[I 2020-06-05 12:33:54,631] Finished trial#3 with value: 0.49999999999999994 with parameters: {'max_depth_68272': 2, 'n_estimators_01867': 20}. Best is trial#2 with value: 0.611111111111111.\n",
      "[I 2020-06-05 12:33:55,640] Finished trial#4 with value: 0.6944444444444443 with parameters: {'max_depth_68272': 6, 'n_estimators_01867': 50}. Best is trial#4 with value: 0.6944444444444443.\n",
      "[I 2020-06-05 12:33:56,650] Finished trial#5 with value: 0.38888888888888884 with parameters: {'max_depth_68272': 6, 'n_estimators_01867': 50}. Best is trial#4 with value: 0.6944444444444443.\n",
      "[I 2020-06-05 12:33:57,158] Finished trial#6 with value: 0.5833333333333334 with parameters: {'max_depth_68272': 6, 'n_estimators_01867': 20}. Best is trial#4 with value: 0.6944444444444443.\n",
      "[I 2020-06-05 12:33:57,630] Finished trial#7 with value: 0.38888888888888884 with parameters: {'max_depth_68272': 2, 'n_estimators_01867': 20}. Best is trial#4 with value: 0.6944444444444443.\n",
      "[I 2020-06-05 12:33:59,559] Finished trial#8 with value: 0.3611111111111111 with parameters: {'max_depth_68272': 6, 'n_estimators_01867': 100}. Best is trial#4 with value: 0.6944444444444443.\n",
      "[I 2020-06-05 12:34:00,026] Finished trial#9 with value: 0.7777777777777777 with parameters: {'max_depth_68272': 4, 'n_estimators_01867': 20}. Best is trial#9 with value: 0.7777777777777777.\n",
      "[I 2020-06-05 12:34:00,546] Finished trial#10 with value: 0.611111111111111 with parameters: {'max_depth_68272': 4, 'n_estimators_01867': 20}. Best is trial#9 with value: 0.7777777777777777.\n",
      "[I 2020-06-05 12:34:01,623] Finished trial#11 with value: 0.7777777777777778 with parameters: {'max_depth_68272': 6, 'n_estimators_01867': 50}. Best is trial#11 with value: 0.7777777777777778.\n",
      "[I 2020-06-05 12:34:02,714] Finished trial#12 with value: 0.5277777777777778 with parameters: {'max_depth_68272': 4, 'n_estimators_01867': 50}. Best is trial#11 with value: 0.7777777777777778.\n",
      "[I 2020-06-05 12:34:03,271] Finished trial#13 with value: 0.49999999999999994 with parameters: {'max_depth_68272': 6, 'n_estimators_01867': 20}. Best is trial#11 with value: 0.7777777777777778.\n",
      "[I 2020-06-05 12:34:03,741] Finished trial#14 with value: 0.5 with parameters: {'max_depth_68272': 4, 'n_estimators_01867': 20}. Best is trial#11 with value: 0.7777777777777778.\n",
      "[I 2020-06-05 12:34:05,756] Finished trial#15 with value: 0.6388888888888888 with parameters: {'max_depth_68272': 6, 'n_estimators_01867': 100}. Best is trial#11 with value: 0.7777777777777778.\n",
      "[I 2020-06-05 12:34:06,774] Finished trial#16 with value: 0.611111111111111 with parameters: {'max_depth_68272': 4, 'n_estimators_01867': 50}. Best is trial#11 with value: 0.7777777777777778.\n",
      "[I 2020-06-05 12:34:07,811] Finished trial#17 with value: 0.47222222222222215 with parameters: {'max_depth_68272': 6, 'n_estimators_01867': 50}. Best is trial#11 with value: 0.7777777777777778.\n",
      "[I 2020-06-05 12:34:08,295] Finished trial#18 with value: 0.6944444444444443 with parameters: {'max_depth_68272': 4, 'n_estimators_01867': 20}. Best is trial#11 with value: 0.7777777777777778.\n",
      "[I 2020-06-05 12:34:10,273] Finished trial#19 with value: 0.5833333333333333 with parameters: {'max_depth_68272': 6, 'n_estimators_01867': 100}. Best is trial#11 with value: 0.7777777777777778.\n",
      "C:\\Users\\Barak\\.conda\\envs\\DSEnv\\lib\\site-packages\\sklearn\\metrics\\_classification.py:1272: UndefinedMetricWarning: Precision is ill-defined and being set to 0.0 in labels with no predicted samples. Use `zero_division` parameter to control this behavior.\n",
      "  _warn_prf(average, modifier, msg_start, len(result))\n"
     ]
    },
    {
     "name": "stdout",
     "output_type": "stream",
     "text": [
      "Experiment's name: experiment2.\n",
      "Start time: 09:33:50 - 05/06/20.\n",
      "End time: 09:34:11 - 05/06/20.\n",
      "Num of folds: 3.\n",
      "Num of k-folds repetitions: 5.\n",
      "\n",
      "---------------------------------------------------------\n",
      "Model name: lr.\n",
      "Score: 0.9777777777777777.\n",
      "\n",
      "Best hyper-parameters: {}.\n",
      "\n",
      "Train's observations:\n"
     ]
    },
    {
     "data": {
      "text/html": [
       "<div>\n",
       "<style scoped>\n",
       "    .dataframe tbody tr th:only-of-type {\n",
       "        vertical-align: middle;\n",
       "    }\n",
       "\n",
       "    .dataframe tbody tr th {\n",
       "        vertical-align: top;\n",
       "    }\n",
       "\n",
       "    .dataframe thead th {\n",
       "        text-align: right;\n",
       "    }\n",
       "</style>\n",
       "<table border=\"1\" class=\"dataframe\">\n",
       "  <thead>\n",
       "    <tr style=\"text-align: right;\">\n",
       "      <th></th>\n",
       "      <th>CLASS</th>\n",
       "      <th>avg_precision</th>\n",
       "      <th>std_precision</th>\n",
       "      <th>avg_recall</th>\n",
       "      <th>std_recall</th>\n",
       "    </tr>\n",
       "  </thead>\n",
       "  <tbody>\n",
       "    <tr>\n",
       "      <th>0</th>\n",
       "      <td>High</td>\n",
       "      <td>1.0</td>\n",
       "      <td>0.0</td>\n",
       "      <td>1.0</td>\n",
       "      <td>0.0</td>\n",
       "    </tr>\n",
       "    <tr>\n",
       "      <th>1</th>\n",
       "      <td>Low</td>\n",
       "      <td>1.0</td>\n",
       "      <td>0.0</td>\n",
       "      <td>1.0</td>\n",
       "      <td>0.0</td>\n",
       "    </tr>\n",
       "  </tbody>\n",
       "</table>\n",
       "</div>"
      ],
      "text/plain": [
       "  CLASS  avg_precision  std_precision  avg_recall  std_recall\n",
       "0  High            1.0            0.0         1.0         0.0\n",
       "1   Low            1.0            0.0         1.0         0.0"
      ]
     },
     "metadata": {},
     "output_type": "display_data"
    },
    {
     "name": "stdout",
     "output_type": "stream",
     "text": [
      "\n",
      "Train's visualizations:\n",
      "confusion_matrix:\n"
     ]
    },
    {
     "name": "stderr",
     "output_type": "stream",
     "text": [
      "C:\\Users\\Barak\\.conda\\envs\\DSEnv\\lib\\site-packages\\automl_infrastructure\\visualization\\confusion_matrix.py:71: MatplotlibDeprecationWarning: Adding an axes using the same arguments as a previous axes currently reuses the earlier instance.  In a future version, a new instance will always be created and returned.  Meanwhile, this warning can be suppressed, and the future behavior ensured, by passing a unique label to each axes instance.\n",
      "  ax = fig.add_subplot(111)\n",
      "C:\\Users\\Barak\\.conda\\envs\\DSEnv\\lib\\site-packages\\automl_infrastructure\\visualization\\confusion_matrix.py:101: UserWarning: Matplotlib is currently using module://ipykernel.pylab.backend_inline, which is a non-GUI backend, so cannot show the figure.\n",
      "  fig.show()\n"
     ]
    },
    {
     "data": {
      "image/png": "[encoded data removed]",
      "text/plain": [
       "<Figure size 360x360 with 2 Axes>"
      ]
     },
     "metadata": {
      "needs_background": "light"
     },
     "output_type": "display_data"
    },
    {
     "name": "stdout",
     "output_type": "stream",
     "text": [
      "\n",
      "Test's observations:\n"
     ]
    },
    {
     "data": {
      "text/html": [
       "<div>\n",
       "<style scoped>\n",
       "    .dataframe tbody tr th:only-of-type {\n",
       "        vertical-align: middle;\n",
       "    }\n",
       "\n",
       "    .dataframe tbody tr th {\n",
       "        vertical-align: top;\n",
       "    }\n",
       "\n",
       "    .dataframe thead th {\n",
       "        text-align: right;\n",
       "    }\n",
       "</style>\n",
       "<table border=\"1\" class=\"dataframe\">\n",
       "  <thead>\n",
       "    <tr style=\"text-align: right;\">\n",
       "      <th></th>\n",
       "      <th>CLASS</th>\n",
       "      <th>avg_precision</th>\n",
       "      <th>std_precision</th>\n",
       "      <th>avg_recall</th>\n",
       "      <th>std_recall</th>\n",
       "    </tr>\n",
       "  </thead>\n",
       "  <tbody>\n",
       "    <tr>\n",
       "      <th>0</th>\n",
       "      <td>High</td>\n",
       "      <td>1.000000</td>\n",
       "      <td>0.000000</td>\n",
       "      <td>0.966667</td>\n",
       "      <td>0.124722</td>\n",
       "    </tr>\n",
       "    <tr>\n",
       "      <th>1</th>\n",
       "      <td>Low</td>\n",
       "      <td>0.966667</td>\n",
       "      <td>0.124722</td>\n",
       "      <td>1.000000</td>\n",
       "      <td>0.000000</td>\n",
       "    </tr>\n",
       "  </tbody>\n",
       "</table>\n",
       "</div>"
      ],
      "text/plain": [
       "  CLASS  avg_precision  std_precision  avg_recall  std_recall\n",
       "0  High       1.000000       0.000000    0.966667    0.124722\n",
       "1   Low       0.966667       0.124722    1.000000    0.000000"
      ]
     },
     "metadata": {},
     "output_type": "display_data"
    },
    {
     "name": "stdout",
     "output_type": "stream",
     "text": [
      "Test's visualizations:\n",
      "confusion_matrix:\n"
     ]
    },
    {
     "name": "stderr",
     "output_type": "stream",
     "text": [
      "C:\\Users\\Barak\\.conda\\envs\\DSEnv\\lib\\site-packages\\automl_infrastructure\\visualization\\confusion_matrix.py:71: MatplotlibDeprecationWarning: Adding an axes using the same arguments as a previous axes currently reuses the earlier instance.  In a future version, a new instance will always be created and returned.  Meanwhile, this warning can be suppressed, and the future behavior ensured, by passing a unique label to each axes instance.\n",
      "  ax = fig.add_subplot(111)\n",
      "C:\\Users\\Barak\\.conda\\envs\\DSEnv\\lib\\site-packages\\automl_infrastructure\\visualization\\confusion_matrix.py:101: UserWarning: Matplotlib is currently using module://ipykernel.pylab.backend_inline, which is a non-GUI backend, so cannot show the figure.\n",
      "  fig.show()\n"
     ]
    },
    {
     "data": {
      "image/png": "[encoded data removed]",
      "text/plain": [
       "<Figure size 360x360 with 2 Axes>"
      ]
     },
     "metadata": {
      "needs_background": "light"
     },
     "output_type": "display_data"
    },
    {
     "name": "stdout",
     "output_type": "stream",
     "text": [
      "\n",
      "\n",
      "---------------------------------------------------------\n",
      "Model name: rf.\n",
      "Score: 0.611111111111111.\n",
      "\n",
      "Best hyper-parameters: {'max_depth': 6, 'n_estimators': 50}.\n",
      "\n",
      "Train's observations:\n"
     ]
    },
    {
     "data": {
      "text/html": [
       "<div>\n",
       "<style scoped>\n",
       "    .dataframe tbody tr th:only-of-type {\n",
       "        vertical-align: middle;\n",
       "    }\n",
       "\n",
       "    .dataframe tbody tr th {\n",
       "        vertical-align: top;\n",
       "    }\n",
       "\n",
       "    .dataframe thead th {\n",
       "        text-align: right;\n",
       "    }\n",
       "</style>\n",
       "<table border=\"1\" class=\"dataframe\">\n",
       "  <thead>\n",
       "    <tr style=\"text-align: right;\">\n",
       "      <th></th>\n",
       "      <th>CLASS</th>\n",
       "      <th>avg_precision</th>\n",
       "      <th>std_precision</th>\n",
       "      <th>avg_recall</th>\n",
       "      <th>std_recall</th>\n",
       "    </tr>\n",
       "  </thead>\n",
       "  <tbody>\n",
       "    <tr>\n",
       "      <th>0</th>\n",
       "      <td>High</td>\n",
       "      <td>1.0</td>\n",
       "      <td>0.0</td>\n",
       "      <td>1.0</td>\n",
       "      <td>0.0</td>\n",
       "    </tr>\n",
       "    <tr>\n",
       "      <th>1</th>\n",
       "      <td>Low</td>\n",
       "      <td>1.0</td>\n",
       "      <td>0.0</td>\n",
       "      <td>1.0</td>\n",
       "      <td>0.0</td>\n",
       "    </tr>\n",
       "  </tbody>\n",
       "</table>\n",
       "</div>"
      ],
      "text/plain": [
       "  CLASS  avg_precision  std_precision  avg_recall  std_recall\n",
       "0  High            1.0            0.0         1.0         0.0\n",
       "1   Low            1.0            0.0         1.0         0.0"
      ]
     },
     "metadata": {},
     "output_type": "display_data"
    },
    {
     "name": "stdout",
     "output_type": "stream",
     "text": [
      "\n",
      "Train's visualizations:\n",
      "confusion_matrix:\n"
     ]
    },
    {
     "name": "stderr",
     "output_type": "stream",
     "text": [
      "C:\\Users\\Barak\\.conda\\envs\\DSEnv\\lib\\site-packages\\automl_infrastructure\\visualization\\confusion_matrix.py:71: MatplotlibDeprecationWarning: Adding an axes using the same arguments as a previous axes currently reuses the earlier instance.  In a future version, a new instance will always be created and returned.  Meanwhile, this warning can be suppressed, and the future behavior ensured, by passing a unique label to each axes instance.\n",
      "  ax = fig.add_subplot(111)\n",
      "C:\\Users\\Barak\\.conda\\envs\\DSEnv\\lib\\site-packages\\automl_infrastructure\\visualization\\confusion_matrix.py:101: UserWarning: Matplotlib is currently using module://ipykernel.pylab.backend_inline, which is a non-GUI backend, so cannot show the figure.\n",
      "  fig.show()\n"
     ]
    },
    {
     "data": {
      "image/png": "[encoded data removed]",
      "text/plain": [
       "<Figure size 360x360 with 2 Axes>"
      ]
     },
     "metadata": {
      "needs_background": "light"
     },
     "output_type": "display_data"
    },
    {
     "name": "stdout",
     "output_type": "stream",
     "text": [
      "\n",
      "Test's observations:\n"
     ]
    },
    {
     "data": {
      "text/html": [
       "<div>\n",
       "<style scoped>\n",
       "    .dataframe tbody tr th:only-of-type {\n",
       "        vertical-align: middle;\n",
       "    }\n",
       "\n",
       "    .dataframe tbody tr th {\n",
       "        vertical-align: top;\n",
       "    }\n",
       "\n",
       "    .dataframe thead th {\n",
       "        text-align: right;\n",
       "    }\n",
       "</style>\n",
       "<table border=\"1\" class=\"dataframe\">\n",
       "  <thead>\n",
       "    <tr style=\"text-align: right;\">\n",
       "      <th></th>\n",
       "      <th>CLASS</th>\n",
       "      <th>avg_precision</th>\n",
       "      <th>std_precision</th>\n",
       "      <th>avg_recall</th>\n",
       "      <th>std_recall</th>\n",
       "    </tr>\n",
       "  </thead>\n",
       "  <tbody>\n",
       "    <tr>\n",
       "      <th>0</th>\n",
       "      <td>High</td>\n",
       "      <td>0.611111</td>\n",
       "      <td>0.308321</td>\n",
       "      <td>0.766667</td>\n",
       "      <td>0.309121</td>\n",
       "    </tr>\n",
       "    <tr>\n",
       "      <th>1</th>\n",
       "      <td>Low</td>\n",
       "      <td>0.566667</td>\n",
       "      <td>0.402768</td>\n",
       "      <td>0.566667</td>\n",
       "      <td>0.402768</td>\n",
       "    </tr>\n",
       "  </tbody>\n",
       "</table>\n",
       "</div>"
      ],
      "text/plain": [
       "  CLASS  avg_precision  std_precision  avg_recall  std_recall\n",
       "0  High       0.611111       0.308321    0.766667    0.309121\n",
       "1   Low       0.566667       0.402768    0.566667    0.402768"
      ]
     },
     "metadata": {},
     "output_type": "display_data"
    },
    {
     "name": "stdout",
     "output_type": "stream",
     "text": [
      "Test's visualizations:\n",
      "confusion_matrix:\n"
     ]
    },
    {
     "name": "stderr",
     "output_type": "stream",
     "text": [
      "C:\\Users\\Barak\\.conda\\envs\\DSEnv\\lib\\site-packages\\automl_infrastructure\\visualization\\confusion_matrix.py:71: MatplotlibDeprecationWarning: Adding an axes using the same arguments as a previous axes currently reuses the earlier instance.  In a future version, a new instance will always be created and returned.  Meanwhile, this warning can be suppressed, and the future behavior ensured, by passing a unique label to each axes instance.\n",
      "  ax = fig.add_subplot(111)\n",
      "C:\\Users\\Barak\\.conda\\envs\\DSEnv\\lib\\site-packages\\automl_infrastructure\\visualization\\confusion_matrix.py:101: UserWarning: Matplotlib is currently using module://ipykernel.pylab.backend_inline, which is a non-GUI backend, so cannot show the figure.\n",
      "  fig.show()\n"
     ]
    },
    {
     "data": {
      "image/png": "[encoded data removed]",
      "text/plain": [
       "<Figure size 360x360 with 2 Axes>"
      ]
     },
     "metadata": {
      "needs_background": "light"
     },
     "output_type": "display_data"
    },
    {
     "name": "stdout",
     "output_type": "stream",
     "text": [
      "\n",
      "\n",
      "---------------------------------------------------------\n"
     ]
    }
   ],
   "source": [
    "# create models we want to examine\n",
    "lr_model = SklearnClassifierAdapter(name='lr', sklearn_model=LogisticRegression())\n",
    "rf_model = SklearnClassifierAdapter(name='rf', sklearn_model=RandomForestClassifier())\n",
    "\n",
    "# declare hyper-params we want to optimize\n",
    "hyper_parameters = {\n",
    "    'rf': [ListParameter('max_depth', options=[2, 4, 6]), \n",
    "           ListParameter('n_estimators', options=[20, 50, 100])]\n",
    "}\n",
    "\n",
    "experiment = Experiment('experiment2', cords_df[features_cols], cords_df[label_col], \n",
    "                models=[lr_model, rf_model],\n",
    "                hyper_parameters=hyper_parameters, \n",
    "                observations={\n",
    "                    'avg_precision': Avg(metric='precision'),\n",
    "                    'std_precision': Std(metric='precision'),\n",
    "                    'avg_recall': Avg(metric='recall'),\n",
    "                    'std_recall': Std(metric='recall')\n",
    "                },\n",
    "                visualizations={\n",
    "                    'confusion_matrix': ConfusionMatrix(figsize=(5,5))\n",
    "                },\n",
    "                objective='accuracy'\n",
    "            )\n",
    "\n",
    "experiment.run(n_trials=20, n_jobs=1)\n",
    "experiment.print_report(print_func=display)"
   ]
  },
  {
   "cell_type": "markdown",
   "metadata": {},
   "source": [
    "# Complex Modeling & Evaluation With Hyper-Param Optimization"
   ]
  },
  {
   "cell_type": "code",
   "execution_count": 6,
   "metadata": {
    "scrolled": false
   },
   "outputs": [
    {
     "name": "stderr",
     "output_type": "stream",
     "text": [
      "[I 2020-06-05 12:34:32,518] Finished trial#0 with value: 1.0 with parameters: {'C_04228': 0.5, 'C_08998': 0.1}. Best is trial#0 with value: 1.0.\n",
      "[I 2020-06-05 12:34:32,782] Finished trial#1 with value: 1.0 with parameters: {'C_04228': 0.1, 'C_08998': 0.1}. Best is trial#0 with value: 1.0.\n",
      "[I 2020-06-05 12:34:33,070] Finished trial#2 with value: 1.0 with parameters: {'C_04228': 0.5, 'C_08998': 0.5}. Best is trial#0 with value: 1.0.\n"
     ]
    },
    {
     "name": "stdout",
     "output_type": "stream",
     "text": [
      "Experiment's name: experiment1.\n",
      "Start time: 09:34:32 - 05/06/20.\n",
      "End time: 09:34:33 - 05/06/20.\n",
      "Num of folds: 3.\n",
      "Num of k-folds repetitions: 5.\n",
      "\n",
      "---------------------------------------------------------\n",
      "Model name: blending.\n",
      "Score: 0.9833333333333333.\n",
      "\n",
      "Best hyper-parameters: {'sub_lr1': {'C': 0.5}, 'sub_lr2': {'C': 0.1}}.\n",
      "\n",
      "Train's observations:\n"
     ]
    },
    {
     "data": {
      "text/html": [
       "<div>\n",
       "<style scoped>\n",
       "    .dataframe tbody tr th:only-of-type {\n",
       "        vertical-align: middle;\n",
       "    }\n",
       "\n",
       "    .dataframe tbody tr th {\n",
       "        vertical-align: top;\n",
       "    }\n",
       "\n",
       "    .dataframe thead th {\n",
       "        text-align: right;\n",
       "    }\n",
       "</style>\n",
       "<table border=\"1\" class=\"dataframe\">\n",
       "  <thead>\n",
       "    <tr style=\"text-align: right;\">\n",
       "      <th></th>\n",
       "      <th>CLASS</th>\n",
       "      <th>avg_precision</th>\n",
       "      <th>avg_recall</th>\n",
       "    </tr>\n",
       "  </thead>\n",
       "  <tbody>\n",
       "    <tr>\n",
       "      <th>0</th>\n",
       "      <td>High</td>\n",
       "      <td>1.0</td>\n",
       "      <td>1.0</td>\n",
       "    </tr>\n",
       "    <tr>\n",
       "      <th>1</th>\n",
       "      <td>Low</td>\n",
       "      <td>1.0</td>\n",
       "      <td>1.0</td>\n",
       "    </tr>\n",
       "  </tbody>\n",
       "</table>\n",
       "</div>"
      ],
      "text/plain": [
       "  CLASS  avg_precision  avg_recall\n",
       "0  High            1.0         1.0\n",
       "1   Low            1.0         1.0"
      ]
     },
     "metadata": {},
     "output_type": "display_data"
    },
    {
     "name": "stdout",
     "output_type": "stream",
     "text": [
      "\n",
      "Train's visualizations:\n",
      "confusion_matrix:\n"
     ]
    },
    {
     "name": "stderr",
     "output_type": "stream",
     "text": [
      "C:\\Users\\Barak\\.conda\\envs\\DSEnv\\lib\\site-packages\\automl_infrastructure\\visualization\\confusion_matrix.py:71: MatplotlibDeprecationWarning: Adding an axes using the same arguments as a previous axes currently reuses the earlier instance.  In a future version, a new instance will always be created and returned.  Meanwhile, this warning can be suppressed, and the future behavior ensured, by passing a unique label to each axes instance.\n",
      "  ax = fig.add_subplot(111)\n",
      "C:\\Users\\Barak\\.conda\\envs\\DSEnv\\lib\\site-packages\\automl_infrastructure\\visualization\\confusion_matrix.py:101: UserWarning: Matplotlib is currently using module://ipykernel.pylab.backend_inline, which is a non-GUI backend, so cannot show the figure.\n",
      "  fig.show()\n"
     ]
    },
    {
     "data": {
      "image/png": "[encoded data removed]",
      "text/plain": [
       "<Figure size 360x360 with 2 Axes>"
      ]
     },
     "metadata": {
      "needs_background": "light"
     },
     "output_type": "display_data"
    },
    {
     "name": "stdout",
     "output_type": "stream",
     "text": [
      "\n",
      "Test's observations:\n"
     ]
    },
    {
     "data": {
      "text/html": [
       "<div>\n",
       "<style scoped>\n",
       "    .dataframe tbody tr th:only-of-type {\n",
       "        vertical-align: middle;\n",
       "    }\n",
       "\n",
       "    .dataframe tbody tr th {\n",
       "        vertical-align: top;\n",
       "    }\n",
       "\n",
       "    .dataframe thead th {\n",
       "        text-align: right;\n",
       "    }\n",
       "</style>\n",
       "<table border=\"1\" class=\"dataframe\">\n",
       "  <thead>\n",
       "    <tr style=\"text-align: right;\">\n",
       "      <th></th>\n",
       "      <th>CLASS</th>\n",
       "      <th>avg_precision</th>\n",
       "      <th>avg_recall</th>\n",
       "    </tr>\n",
       "  </thead>\n",
       "  <tbody>\n",
       "    <tr>\n",
       "      <th>0</th>\n",
       "      <td>High</td>\n",
       "      <td>0.977778</td>\n",
       "      <td>1.000000</td>\n",
       "    </tr>\n",
       "    <tr>\n",
       "      <th>1</th>\n",
       "      <td>Low</td>\n",
       "      <td>1.000000</td>\n",
       "      <td>0.966667</td>\n",
       "    </tr>\n",
       "  </tbody>\n",
       "</table>\n",
       "</div>"
      ],
      "text/plain": [
       "  CLASS  avg_precision  avg_recall\n",
       "0  High       0.977778    1.000000\n",
       "1   Low       1.000000    0.966667"
      ]
     },
     "metadata": {},
     "output_type": "display_data"
    },
    {
     "name": "stdout",
     "output_type": "stream",
     "text": [
      "Test's visualizations:\n",
      "confusion_matrix:\n"
     ]
    },
    {
     "name": "stderr",
     "output_type": "stream",
     "text": [
      "C:\\Users\\Barak\\.conda\\envs\\DSEnv\\lib\\site-packages\\automl_infrastructure\\visualization\\confusion_matrix.py:71: MatplotlibDeprecationWarning: Adding an axes using the same arguments as a previous axes currently reuses the earlier instance.  In a future version, a new instance will always be created and returned.  Meanwhile, this warning can be suppressed, and the future behavior ensured, by passing a unique label to each axes instance.\n",
      "  ax = fig.add_subplot(111)\n",
      "C:\\Users\\Barak\\.conda\\envs\\DSEnv\\lib\\site-packages\\automl_infrastructure\\visualization\\confusion_matrix.py:101: UserWarning: Matplotlib is currently using module://ipykernel.pylab.backend_inline, which is a non-GUI backend, so cannot show the figure.\n",
      "  fig.show()\n"
     ]
    },
    {
     "data": {
      "image/png": "[encoded data removed]",
      "text/plain": [
       "<Figure size 360x360 with 2 Axes>"
      ]
     },
     "metadata": {
      "needs_background": "light"
     },
     "output_type": "display_data"
    },
    {
     "name": "stdout",
     "output_type": "stream",
     "text": [
      "\n",
      "\n",
      "---------------------------------------------------------\n"
     ]
    }
   ],
   "source": [
    "# create models we want to examine\n",
    "complex_blending_model = EnsembleClassifier(\n",
    "    name='blending', \n",
    "    input_models=[SklearnClassifierAdapter(name='sub_lr1', sklearn_model=LogisticRegression()),\n",
    "                  SklearnClassifierAdapter(name='sub_lr2', sklearn_model=LogisticRegression())],\n",
    "    \n",
    "    ensemble_model=SklearnClassifierAdapter(name='top_lr', sklearn_model=LogisticRegression())\n",
    "    )\n",
    "\n",
    "# declare hyper-params we want to optimize\n",
    "hyper_parameters = {\n",
    "    'blending':{\n",
    "        'sub_lr1': [ListParameter('C', options=[0.1, 0.5])],\n",
    "        'sub_lr2': [ListParameter('C', options=[0.1, 0.5])],\n",
    "    }\n",
    "}\n",
    "\n",
    "experiment = Experiment('experiment1', cords_df[features_cols], cords_df[label_col], \n",
    "                models=[complex_blending_model], \n",
    "                hyper_parameters=hyper_parameters, \n",
    "                observations={\n",
    "                    'avg_precision': Avg(metric='precision'),\n",
    "                    'avg_recall': Avg(metric='recall')\n",
    "                },\n",
    "                visualizations={\n",
    "                    'confusion_matrix': ConfusionMatrix(figsize=(5,5))\n",
    "                },\n",
    "                objective='accuracy'\n",
    "            )\n",
    "\n",
    "experiment.run(n_jobs=1)\n",
    "experiment.print_report(print_func=display)"
   ]
  },
  {
   "cell_type": "code",
   "execution_count": null,
   "metadata": {},
   "outputs": [],
   "source": []
  }
 ],
 "metadata": {
  "kernelspec": {
   "display_name": "Python 3",
   "language": "python",
   "name": "python3"
  },
  "language_info": {
   "codemirror_mode": {
    "name": "ipython",
    "version": 3
   },
   "file_extension": ".py",
   "mimetype": "text/x-python",
   "name": "python",
   "nbconvert_exporter": "python",
   "pygments_lexer": "ipython3",
   "version": "3.7.7"
  }
 },
 "nbformat": 4,
 "nbformat_minor": 4
}
